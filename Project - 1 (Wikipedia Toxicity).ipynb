{
 "cells": [
  {
   "cell_type": "code",
   "execution_count": 85,
   "id": "ff88097f",
   "metadata": {},
   "outputs": [],
   "source": [
    "import time\n",
    "import warnings\n",
    "warnings.filterwarnings(\"ignore\")"
   ]
  },
  {
   "cell_type": "markdown",
   "id": "068e9bf7",
   "metadata": {},
   "source": [
    "## Tasks\n",
    "\n",
    "##### 1. Load the data using read_csv function from pandas package"
   ]
  },
  {
   "cell_type": "code",
   "execution_count": 86,
   "id": "b545e8f8",
   "metadata": {},
   "outputs": [
    {
     "data": {
      "text/html": [
       "<div>\n",
       "<style scoped>\n",
       "    .dataframe tbody tr th:only-of-type {\n",
       "        vertical-align: middle;\n",
       "    }\n",
       "\n",
       "    .dataframe tbody tr th {\n",
       "        vertical-align: top;\n",
       "    }\n",
       "\n",
       "    .dataframe thead th {\n",
       "        text-align: right;\n",
       "    }\n",
       "</style>\n",
       "<table border=\"1\" class=\"dataframe\">\n",
       "  <thead>\n",
       "    <tr style=\"text-align: right;\">\n",
       "      <th></th>\n",
       "      <th>id</th>\n",
       "      <th>comment_text</th>\n",
       "      <th>toxic</th>\n",
       "    </tr>\n",
       "  </thead>\n",
       "  <tbody>\n",
       "    <tr>\n",
       "      <th>0</th>\n",
       "      <td>e617e2489abe9bca</td>\n",
       "      <td>\"\\r\\n\\r\\n A barnstar for you! \\r\\n\\r\\n  The De...</td>\n",
       "      <td>0</td>\n",
       "    </tr>\n",
       "    <tr>\n",
       "      <th>1</th>\n",
       "      <td>9250cf637294e09d</td>\n",
       "      <td>\"\\r\\n\\r\\nThis seems unbalanced.  whatever I ha...</td>\n",
       "      <td>0</td>\n",
       "    </tr>\n",
       "    <tr>\n",
       "      <th>2</th>\n",
       "      <td>ce1aa4592d5240ca</td>\n",
       "      <td>Marya Dzmitruk was born in Minsk, Belarus in M...</td>\n",
       "      <td>0</td>\n",
       "    </tr>\n",
       "    <tr>\n",
       "      <th>3</th>\n",
       "      <td>48105766ff7f075b</td>\n",
       "      <td>\"\\r\\n\\r\\nTalkback\\r\\n\\r\\n Dear Celestia...  \"</td>\n",
       "      <td>0</td>\n",
       "    </tr>\n",
       "    <tr>\n",
       "      <th>4</th>\n",
       "      <td>0543d4f82e5470b6</td>\n",
       "      <td>New Categories \\r\\n\\r\\nI honestly think that w...</td>\n",
       "      <td>0</td>\n",
       "    </tr>\n",
       "  </tbody>\n",
       "</table>\n",
       "</div>"
      ],
      "text/plain": [
       "                 id                                       comment_text  toxic\n",
       "0  e617e2489abe9bca  \"\\r\\n\\r\\n A barnstar for you! \\r\\n\\r\\n  The De...      0\n",
       "1  9250cf637294e09d  \"\\r\\n\\r\\nThis seems unbalanced.  whatever I ha...      0\n",
       "2  ce1aa4592d5240ca  Marya Dzmitruk was born in Minsk, Belarus in M...      0\n",
       "3  48105766ff7f075b      \"\\r\\n\\r\\nTalkback\\r\\n\\r\\n Dear Celestia...  \"      0\n",
       "4  0543d4f82e5470b6  New Categories \\r\\n\\r\\nI honestly think that w...      0"
      ]
     },
     "execution_count": 86,
     "metadata": {},
     "output_type": "execute_result"
    }
   ],
   "source": [
    "import pandas as pd\n",
    "\n",
    "df = pd.read_csv('C:/Ashu/train.csv', encoding='utf8')\n",
    "df.head()"
   ]
  },
  {
   "cell_type": "markdown",
   "id": "4c4e6290",
   "metadata": {},
   "source": [
    "#### 2. Get the comments into a list, for easy text cleanup and manipulation"
   ]
  },
  {
   "cell_type": "code",
   "execution_count": 87,
   "id": "ff1ac27b",
   "metadata": {},
   "outputs": [],
   "source": [
    "comment_text = df['comment_text'].to_list()"
   ]
  },
  {
   "cell_type": "markdown",
   "id": "e7cc5bca",
   "metadata": {},
   "source": [
    "### 3. Cleanup:\n",
    "\n",
    "#### 1. Using regular expressions, remove IP addresses"
   ]
  },
  {
   "cell_type": "code",
   "execution_count": 88,
   "id": "2cf3f3d1",
   "metadata": {},
   "outputs": [],
   "source": [
    "import re\n",
    "\n",
    "rule_ip = r'\\d{1,3}\\.\\d{1,3}\\.\\d{1,3}\\.\\d{1,3}'\n",
    "\n",
    "comment_text = [re.sub(rule_ip, '', text) for text in comment_text]"
   ]
  },
  {
   "cell_type": "markdown",
   "id": "5eb9ec40",
   "metadata": {},
   "source": [
    "#### 2. Using regular expressions, remove URLs"
   ]
  },
  {
   "cell_type": "code",
   "execution_count": 89,
   "id": "0ae04ec6",
   "metadata": {},
   "outputs": [],
   "source": [
    "rule_url = (\"((http|https|http://www.|https://www.|www.))\" +\n",
    "             \"[a-zA-Z0-9@:%._\\\\+~#?&//=]\" +\n",
    "             \"{2,256}\\\\.[a-z]\" +\n",
    "             \"{2,6}\\\\b([-a-zA-Z0-9@:%\" +\n",
    "             \"._\\\\+~#?&//=]*)\")\n",
    "\n",
    "comment_text = [re.sub(rule_url, '', text) for text in comment_text]"
   ]
  },
  {
   "cell_type": "markdown",
   "id": "9b07e954",
   "metadata": {},
   "source": [
    "#### 3. Normalize the casing"
   ]
  },
  {
   "cell_type": "code",
   "execution_count": 90,
   "id": "0b52bec1",
   "metadata": {},
   "outputs": [],
   "source": [
    "comment_text = [text.lower() for text in comment_text]"
   ]
  },
  {
   "cell_type": "markdown",
   "id": "ace3815e",
   "metadata": {},
   "source": [
    "#### 4. Tokenize using word_tokenize from NLTK"
   ]
  },
  {
   "cell_type": "code",
   "execution_count": 91,
   "id": "5978d02f",
   "metadata": {},
   "outputs": [],
   "source": [
    "from nltk.tokenize import word_tokenize\n",
    "\n",
    "comment_text_tokens = [word_tokenize(text) for text in comment_text]"
   ]
  },
  {
   "cell_type": "markdown",
   "id": "5eebef68",
   "metadata": {},
   "source": [
    "#### 5. & 6. Remove stop words / Remove punctuation"
   ]
  },
  {
   "cell_type": "code",
   "execution_count": 92,
   "id": "dfb4b8df",
   "metadata": {},
   "outputs": [
    {
     "name": "stdout",
     "output_type": "stream",
     "text": [
      "['i', 'me', 'my', 'myself', 'we', 'our', 'ours', 'ourselves', 'you', \"you're\", \"you've\", \"you'll\", \"you'd\", 'your', 'yours', 'yourself', 'yourselves', 'he', 'him', 'his', 'himself', 'she', \"she's\", 'her', 'hers', 'herself', 'it', \"it's\", 'its', 'itself', 'they', 'them', 'their', 'theirs', 'themselves', 'what', 'which', 'who', 'whom', 'this', 'that', \"that'll\", 'these', 'those', 'am', 'is', 'are', 'was', 'were', 'be', 'been', 'being', 'have', 'has', 'had', 'having', 'do', 'does', 'did', 'doing', 'a', 'an', 'the', 'and', 'but', 'if', 'or', 'because', 'as', 'until', 'while', 'of', 'at', 'by', 'for', 'with', 'about', 'against', 'between', 'into', 'through', 'during', 'before', 'after', 'above', 'below', 'to', 'from', 'up', 'down', 'in', 'out', 'on', 'off', 'over', 'under', 'again', 'further', 'then', 'once', 'here', 'there', 'when', 'where', 'why', 'how', 'all', 'any', 'both', 'each', 'few', 'more', 'most', 'other', 'some', 'such', 'no', 'nor', 'not', 'only', 'own', 'same', 'so', 'than', 'too', 'very', 's', 't', 'can', 'will', 'just', 'don', \"don't\", 'should', \"should've\", 'now', 'd', 'll', 'm', 'o', 're', 've', 'y', 'ain', 'aren', \"aren't\", 'couldn', \"couldn't\", 'didn', \"didn't\", 'doesn', \"doesn't\", 'hadn', \"hadn't\", 'hasn', \"hasn't\", 'haven', \"haven't\", 'isn', \"isn't\", 'ma', 'mightn', \"mightn't\", 'mustn', \"mustn't\", 'needn', \"needn't\", 'shan', \"shan't\", 'shouldn', \"shouldn't\", 'wasn', \"wasn't\", 'weren', \"weren't\", 'won', \"won't\", 'wouldn', \"wouldn't\"] \n",
      "\n",
      " ['!', '\"', '#', '$', '%', '&', \"'\", '(', ')', '*', '+', ',', '-', '.', '/', ':', ';', '<', '=', '>', '?', '@', '[', '\\\\', ']', '^', '_', '`', '{', '|', '}', '~'] \n",
      "\n",
      " ['must', 'would', 'could', \"'s\", \"n't\", \"'m\", \"'re\", \"'ve\", \"'ll\", \"'d\", \"''\", '``', '...', '•', '—']\n"
     ]
    }
   ],
   "source": [
    "from nltk.corpus import stopwords\n",
    "import string\n",
    "\n",
    "sw = stopwords.words('english')\n",
    "punc = list(string.punctuation)\n",
    "sw_custom = [\"must\", \"would\", 'could', \"'s\", \"n't\", \"'m\", \"'re\", \"'ve\", \"'ll\", \"'d\", \"''\", '``','...','•','—',]\n",
    "\n",
    "print(sw, \"\\n\\n\", punc, \"\\n\\n\", sw_custom)"
   ]
  },
  {
   "cell_type": "code",
   "execution_count": 93,
   "id": "8300eea6",
   "metadata": {},
   "outputs": [],
   "source": [
    "sw_punc = sw + punc + sw_custom\n",
    "\n",
    "comment_text_cleaned = []\n",
    "for item in comment_text_tokens:\n",
    "    cleaned_text = [word for word in item if ((word not in sw_punc and word.isascii()) and not word.isnumeric())]\n",
    "    comment_text_cleaned.append(cleaned_text)"
   ]
  },
  {
   "cell_type": "markdown",
   "id": "5a8c6bf7",
   "metadata": {},
   "source": [
    "#### Let us check if any non-alphabatic characters are present in cleaned text data"
   ]
  },
  {
   "cell_type": "code",
   "execution_count": 94,
   "id": "0ed2a711",
   "metadata": {},
   "outputs": [
    {
     "name": "stdout",
     "output_type": "stream",
     "text": [
      "['drama-prone', 'ludwigs2', '1992.', 'b.', '2010.', 'non-profit', 'k.', 'deceased/former', 'yes/', 'e.g', 'mention.', '==', '150,000', '==', 'titt-fucking', '|talk', '22:56', '=19680608', '=rgcxaaaaibaj', '=mweeaaaaibaj', '=2025,668035', '=7442', '=1bf779fbde1fec4673e3ec6b631deb7f', 'as-yet-uncomfirmed-by-the-bbc', \"y'know\", '....', '15:47', \"'personal\", 'his/her', 'source.', 'nominations/grootegeluk', 'nominations/giovan', 're-reviews', 'me/breathe', 'isp-issued', 'isp-issued', 'indian_name', 'stub-sorting', 'uk-struct-stub', 'uk-geo-stub', 'struct-stub', '|hello', '00:32', '65th', '65th', 'col.', '2.', 'col.', '3.', 'ee.uu', '..', 'it.', '08:57', '90/91', '1990.', '1985.', '..', '10+', 'recently-filed', 'arbitration/requests', 'arbitration/requests', 'option-shift-hyphen', 'non-english', 'non-english', 'lot.', 'and/or', 'season_2.3a_2006', 'vs.', 'vs.', 'talkie-talkie', 're-reading', '7:22', 'rock/heavy', 'sino-tibetans', 'u.s.', '4.', '5.', 'elf-masher', '.....', 'language/wikipedia', 'film-specific', 'non-english', 'non-mainstream', 'english-speaker', 'czech-speaker', 'japanese-speaker', 'disabled.if', 'unblock-en-l', 'school-issued', 'taken.thank', 'you.', '==', \"o'neill\", '==', '1b', '26-county', '6-county', 'ard-fheis', '26-county', 'a.', 'b.', '1b', '6-county', 'i.e', '1b', '1b', '1b', '1b', '26-county', 'ard-fheis', '26-county', 'a.', '1b', '162.', '1b', '1b', '1b', '1b', 'non-existent', 'dr.', 'russian-made', 'non-sentient', 'prof.', 'e-mail', 'e-mail', 'e-mail', 'articles/redirects', 'hakka-dialect', 'ukrainian-american', 'wiki-clones', 'works.', \"'warm\", \"'best\", '1/8', 'v-type', '10-20', \"'weak\", \"'feeble\", '4/5', 'fuel.', 'i/ve', 'lead/december', '3rr', 'dead-link', 'one-liner', 'shop-software', 'php-mysql', \"editors'whose\", 'worthless.', 'talk|', 'd.', 'long-term', 'noticeboard/incidents', 'pre-embryo', \"'pre-embryo\", 'pre-embryo', 'wiki-harassment', 're-inserted', 're-add', 'and/or', 'bull-headed', 'e.g', 'co-sponsored', '2003.', 'kirk.i', \"'reliable\", 'unreal7', 'interrupted|user', 'articles-blah', 'tu-154', 'ssven2', ':it', 'simple/complex', 'lockeownzj00', 'e.g', 'a3', 'p.s', '=where', 'holds===', 'ink-and-paper', 's-e-s', '==', 'thx4thx', 'pravapis.org', 'npov-pusher', 'i.e', 'template_talk', 'regions_of_the_world', '0th', '2006.jpg', '2006.jpg', 'non-free', 'heads-up', 'newly-dipped', '23:07', '|listas', 'third-party', 'loss/vandalism', '18:11', \"'the\", \"'in\", ':this', 'ww2', '..', '1962.', 'mysweetoldetc.', 'templates_for_deletion/log/2006_february_5', 'user_paedophile', 'criminal/abusive', 't1', 't1', 'deletion_review/userbox_debates', 'user_boylover_and_template', 'user_girllover', 'waiting-room', 'p.', 'g11', 'contributions.', 'bad-faith', \"'needs\", 'self-described', 'wiki-policy', 'mr.', 'mr.', \"'needs\", 'wiki-policy', 'vandalism-related', 'talk-page', 'mr.', 'dumb.', 'disputable-', 'sex-appeal', 'wikipedia.', 'cross-breeds', 'line-breeding', \"'we\", \"'we\", 'elven6', 're-read', 'primary-to-secondary', 'way.', 'self-publications', 'brown-eyed', '..', ':well', 'seriously.', 'ideology.fascists', 'e-zpass', 'etc.', 'non-unique', 'e-zpass', \"'em\", '-jean', \"'spectacular\", \"'recommend\", 'sock-puppetry', 'a-league', 'a-league', 'may/may', 'well-known', '17:53', 'perspective.if', '3,000', '20:50', 'mid-2013', 'mid-', '1943.', 'honorifics.', 'i.e.', 'hip-hop', 'talk|contribs', 'peer-reviewed', 'non-thermal', \"'phones\", 'non-thermal', 'awful.', '....', 'brain-dead', 'removed/censored', 'i.e', 'power/force', 'mistress-', 'deletion/suri', '2nd', 'deletion/suri', '2nd', 'countries/sovereign', 'i.e', '2nd', 'successfully.', \"'ego\", 'va.', \"'bha\", \"'ra\", \"'va\", 'lists_of_people', '2.pdf', '2.pdf', '96h', 'mr.', 'call.', 'village_pump_', 'june_17_labs_outage_effect_on_still_missing_june_17_pageview_stats', 'article.', '20th', 'socialist.', 'helpful.', '..', '3rr', 'meatpuppetry.', 'st.', 'url.com', 'article-space', 'p.s', 'self-pd', 'd.c', 'triple-decker', '1,2,3', '1,2,3', 'h.', 'www.diva-portal.org', 's3ep11', 'off-limits', 'm.i.a', 'm.i.a', 'meningless.', 'wikipedia.', 'now0727local', 'pop-knowledge', 'deletion/springfield', 'hitman/murderer', \"'robert\", \"'spilotro\", 'athuor-to-be', 'pre-reviews', 'w/e', 'miquonranger03', 'miquonranger03', 'miquonranger03', 'miquonranger03', '1,000', 'style=', 'border-spacing:8px', 'margin:0px', '-8px', 'width=', '|class=', 'style=', 'border:1px', 'background-color', 'f5fffa', 'vertical-align', 'font-size', '~~~~', 'style=', 'border-spacing:8px', 'margin:0px', '-8px', 'width=', '|class=', 'style=', 'border:1px', 'background-color', 'f5fffa', 'vertical-align', '|class=', 'style=', 'border:1px', 'background-color', 'f5fffa', 'vertical-align', 'width=', 'cellpadding=', 'cellspacing=', 'style=', 'vertical-align', 'background-color', 'f5fffa', '|-', '|style=', '|-', '|-', '|style=', '|-', 'deep-rooted', '|1=unblock', 'on-line', 'abuse-harrasmnt', 'symptomatology.this', '07:07', '2nd', '=prev', '=534670252', 'darwin.', '19:40', '07:06', \"'70s\", '3rd', '-abhishikt', 'e.g.', 'well-educated', 'b-class', 'koshvorlon|', '20+', 'fair-use', 'change.', 'aboutcivil.com', 'my/your', 'wiki-project', '==', 'semi-protect', '==', 'castro-lite', 'watered-down', '04:56', 'page.', '..', \"'koa\", 'breeder/winter', 'mr.', '..', '..', 'e.g.', 'world-war-ii-era', '~~~~', 'self-contradictory', '03:40', 'ping-ponging', 'ping-ponging', 'ping-ponging', 'talk-contribs', '30th', 'candidates/destroy', 'r.', 'u.s.', '03216u', 'edit.jpg', 'fan-boy', \"'video\", ':i', 'opinion.', 'bud/s', 'st2', 'st6', 'g.', 'non-notable', '63,980', '63,980', 'i.e', '1.', '2.', '9/11', '9/11', 'v-prop', 'v-prop', 'text.', 'p.s', '~~~~', 'point.', 'web-site', '04:22', '2.jpg', '2.jpg', \"'image\", 'non-free', 'ww2', 'overcapitalizing.', 'so-called', 'sawed-off', 'high-hat', 'hand-held', 'multi-camera', 'all-digital', 'old-style', 'vs.', 'semi-protection', 'sissy-boys', '-fat', '.....', 'self-hating', 'hard-pressed', 'ethnicity/religion', 'self-hating', 'prof.', 'self-hating', 'advice.', 'non-consensual', 'misleading.', 'dam.', 'post-esperanza', '....', 'period/full', 'period/period', './', \"ma'am\", 'back-up', 'mr.', 'well-deserved', 'mac-10', 'mac-10', '15:57', 'p.', 'mr.', \"'simple\", \"'multiple\", '4.', 'citation/source', 'third-parties', 'self-revert', 'style=', 'background-color', 'f5fffa', 'cellpadding=', '|-', 'style=', '1px', 'background-color', 'f5fffa', 'vertical-align', '~~~~', 'width=', 'style=', 'background-color', 'f5fffa', '|style=', 'border:1px', 'background-color', 'f5fffa', 'vertical-align', 'list-style', 'three-revert', 'non-free', '|class=', 'style=', 'border:1px', 'background-color', 'f5fffa', 'vertical-align', 'width=', 'cellpadding=', 'cellspacing=', 'style=', 'vertical-align', 'background-color', 'f5fffa', \"'ks\", \"'tz\", \"'ts\", '18th', '19th', 'scout.com', '=nevada', '=softverbal', '=football', '20recruiting', '=hs', '=2010', 'non-poles', '97.8', '362,209', '2.2', '7,980', 'poland.10', 'priscilla0213', \"'fauna\", \"'flora\", \"drc'-\", 'topic.', '2013.', 'group.', 'highly-respected', 'widely-recognized', 'blofeld|ernst', '09:34', '=prev', '=693709828', \"'characterising\", 'uk/aust', \"'cade\", 'three-revert', 'three-revert', 'sco1996', '==', '==', '6/8', 'non-notable', \"'fuck\", 'vs.', 'e-mail', '_____', 'ok.', 'itself.', 'franco-mongol', 'time-consuming', 'edit-warring', 'talk-page', '14:31', 'dr.', '14p.patsevere', '90kts', '75kts', '960hpa', '97p.invest', '2010-02-06', '1200z', 'abpw10', '2010-02-06', '2000z', '09f', '2010-02-06', '1800z', 'wtps21', '2010-02-07', '0730z', '14p', '2010-02-07', '1800z', '2010-02-08', '0000z', '2010-02-08', '1800z', '2010-02-10', '0300z', '2010-02-11', '0000z', '2010-02-11', '0600z', '2010-02-11', '1800z', '2010-02-06', '1800z', '2010-02-07', '0000z', '//', '0600z', '//', '1800z', '2010-02-08', '0600z', '//', '1800z', '2010-02-09', '0600z', '//', '1800z', '2010-02-10', '0600z', '//', '1800z', '2010-02-11', '0600z', '//', '1800z', '2010-02-12', '0600z', '//', '1800z', '2010-02-06', '2100z', '2010-02-07', '0000z', '//', '0000z', '//', '0600z', '2010-02-07', '1200z', '//', '1800z', '2010-02-08', '0000z', '//', '0600z', '//', '1200z', '//', '1800z', '2010-02-09', '0000z', '//', '0600z', '//', '1200z', '09/1200z', '2010-02-09', '1800z', '2010-02-10', '0000z', '//', '0600z', '//', '1200z', '//', '1800z', '09/1200z', '2010-02-11', '0000z', '//', '0600z', '//', '//', '//', '//', '//', '//', '//', '//', '//', '//ftp.m', '1.', 'i.e', 'him/her', 'eight-fold', 'semi-spherical', '2.', 'i.e', 'disc-like', '3.', 'all-formed', 'semi-spherical', 'semi-spherical', 'all-formed', 'so-called', 's.', 'prof.', 'y.', '1961.', 'best-known', '-emlodik', '~~~~', '2000/xp', '95/98', '9.0', '6.0', '16megs', 'b/itch', 'b1tch', '03:35', 'anti-vandalism', 'vandalism.', 'self-portrait', 'heavens-above', '98.', \"'tween\", 'a7', 'subject-specific', 'fact.', 'u.s.', \"'cause\", 'sunnah.com', 'fan-portal', 'www.inter-islam.org', \"a'la\", 'water.who', 'left-right', 'i.e.', 'wwii-era', 'quasi-fascist', 'built-in', 'inter-digit', 'p.o', 'inter-digit', 'digit.', 'kanden7', 'relax.', 'a.', 'b.', 'c.', 'military/factory', 'i.e.', 'copy/paste', 'q2', 'wrong.', '-still-', 'proxy-editing', '20:04', '12th', 'one-by-one', 'pagez0', 'waop-', 'straight-forward', 'asian/pacific', 'y.', \"'rolls\", '.now', '5.7', 'five-seven', 'understood.', '9/11', 'ripped-off', '..', 'cmsguy123', 'stuffstuffstuffcolumn1', '/td', 'stuffstuffstuffcolumn2', '/td', 'stuffstuffstuffcolumn3', '/td', '/tr', '/table', 'i.e.', 'stuffstuffstuffcolumn1', '/poem', '/td', 'column.', 'destroy/butcher', 'it.', '1923.', 'self-published', 'good-faith', '..', '==notability', 'tragedy==', 'this.', 'others.', 'stalin-like', 'deletion/kristen', 'pro-mild', '4.', 'short.', '==your', 'lyon==', 'me.', 'prince-elect', 'knee-jerk', '==', 's/he', 'awb-ness', '91/1/0', \"'official\", \"'calls\", 're-ordering', 'noticeboard/incidents', '//', '//', '//', 'h55', 'h55', 'h55', '/ga1', '-laidas', '-laidas', 'here.', 'style=', '1px', '|rowspan=', 'style=', 'vertical-align', '5px', '|thank', '====', '====', '====', '====', '====', '====', '====', '====', '====', '====', '====', '====', '====', '====', '====', '====', '====', '====', '====', '====', '====', '====', '====', '====', '====', '====', '====', '====', '====', '====', '====', '====', '====', '====', '====', '====', '====', '====', '====', '====', '====', '====', '====', '====', '====', '====', '====', '====', '====', '====', '====', '====', '====', '====', '====', '====', '====', '====', '====', '====', '====', '====', '====', '====', '====', '====', '====', '====', '====', '====', '====', '====', '====', '====', '====', '====', '====', '====', '====', '====', '====', '====', '====', '====', '====', '====', '====', '====', '====', '====', '====', '====', '====', '====', '====', '====', '====', '====', '====', '====', '====', '====', '====', '====', '====', '====', '====', '====', '====', '====', '====', '====', '====', '====', '====', '====', '====', '====', '====', '====', '====', '====', '====', '====', '====', 'bhagavad-gita', 'btw.', 'einstein-cartan', 'well-written', 'einstein-cartan', 'einstein-cartan', 'einstein-cartan', 'einstein-cartan', 'theory.', '=/', 'third-year', 'page.', 'al-ghazi', 'decline=what', 'pyramid-style', 'cause.', 'actions.', 'mp3s', '==', 'e.g.', '5th', '6th', 'or/syn', 'vs.', 'removing.', 'mis-handling', 'talk2me', 're-create', \"'douche\", 'nevhood|nevhood', '06:27', 'i-t', 'i-team', 'fuck-ups', 'fu82', 'in-depth', '....', 'ever-changing', 'ok.', 'referenced.', '==', '==', 'authorship/license/etc', ':file', 'daytime.jpg', '1990s', \"'the\", 'creepy-crawlies', 'screw-up', '02:21', 'official.if', 'misleading.', '~~~', '~~~~', 'c.a', '~~~~', '05:32', '2nd', 'now.', 'e.g', 'non-russophones', 'e.', 'thank-you', 'wp:100', \"'blis\", 'bolzano-bozen', 'account101', 'wikifun-usa', 'infinity88', 'rossifumi-gp', 'mud-miner', 'small-minded', 'keyboard.', 'streetwisemail.com', '~~~~', 'non-pov', 'non-pov', \"'revolution\", 'e.g', \"'wide-ranging\", 'e.g', \"'industrial\", 're-written', 'a.', 're-written', 'us3.96', 'inc.', 'inc.', 'u.s.', '04:42', 'sources.', 'maribras.jpg', 'maribras.jpg', 'non-free', 'non-free', 'non-free', 'non-free', 'non-free', 'non-free', '08:02', 'summary_box', 'always_provide_an_edit_summary', 'g-unit', 'thumbnail-readable', 'this.', 'bttf2', '=261397971', '=261369799', 'you.', 'mr.', 'phd-lin', 'sock-puppetry', '16:34', 'near-exclusively', \"'the\", 'me.', 'third-party', 'copy-editor', 'here.', 'non-profit', 'k6ka', 'anti-israeli', 'detrimental.often', 'pre-quantum', '20:12', 'rs|citations', \"'thinks\", 'c.', 'b.c.embassy', 'world-wide', 'self-releasing', 'self-releases', 'prod.', 're-release', 'blackmetal.com', 'p.s', 'non-scientific', 'non-pov', 'pov-non-pov', 'non-scientific', 'you.', 'choice.-', '20,000', '40,000', '25-30', '100,000', '40,000.', '20,000', '40,000', '-time', 'oun/upa', 'strength-', 'oun/upa', '80-90', '100,000', 'arkansas==', '==', 'talk:1er', '1955.', ':my', \"'89\", \"'90\", '17:20', 'source.', '==appeal', '~~', 'in-depth', '6ft', '6.', '6ft', 'edit-warring', '3rr', '01:03', 'him-', 'anti-egalitarian', '==wikistalkers', '6=thirteen', \"'kabbala\", 'made-up', 're-position', 're-position', 'up-to', 'required.', 'palestinian/anti', \"'group\", \"'sources\", \"'libellous\", '18th', '18th', '19th', '16th', '19th', 'bunts.', 'up.-', 'section.', 'he/she/it', 'father.', 'wp:3rr', 'flat-earth', 'not-so-', '300,000+', '300,000', '300,000', 'any1', 'any1', 'p.s', 'washed-up', \"'adm\", \"'aks\", 'article.', '70s', '80s', 'them.c-joe', '......', '..', 'semi-protected', '|listas', '212-384-5000', 'u.s.', 'u.s.', 'papers/identification', 'haddad-adel', 'khamenei/khameini', 'u.s.', 'iran/persia', \"'personal\", 'u.s.', \"'women\", 'iran/persia', 'c.30', '|listas=last', 'the|class=b', '==april', '2010==', 'vs.', 'jeansablonalbum.jpg', 'jeansablonalbum.jpg', \"'image\", 'non-free', 'you.', 'vs.', '2.', '1.', '2.', '3.', '3rd', 'joke-thingies', 'c11th', 'dic-defs', \"'historian\", \"'sanhedrin\", \"'both\", \"'the\", 'poll/iar/block', 'ill-advised', 'clear-cut', 'it.', \"'commonwealth\", '....', 'michael_richards/archive_2.', \"'cause\", 'a-my', 'dog-gone', \"willin'\", 'hey-hey', 'a-my', 'dog-gone', \"willin'\", '19th', 'century.', 'c-pimp', 'c.fed', '3rr', 'sock-puppet', 'saudi-arabia', 'leominster+1', '|-', '|-', 'asia/south', 'o-sry', 'o-m122', 'o-m95', '2,500', 'jayron32', 'jayron32', 'jayron32', 'rd/m', 'jayron32', 'jayron32', 'all.', \"'macao\", \"'macau\", \"'macao\", \"'macau\", 'e.g', \"'macao\", \"'macao\", \"'macau\", \"'munich\", \"'macao\", \"'macau\", 'back-seat', \"'air\", 'do.', 'true.', 'd.h.', '01:53', '01:54', '01:54', '01:54', '14:54', 'non-cra', '12th', '13th/14th', 'j.aldred', \"'arundhati\", \"'om\", 'director-general', 'by-election', '=215477', '=published', '=27001', 'k.', 'sergecross73', 'cyberlink420', 'self-admittedly', 'passive-aggressiveness', 'bad-faith', 'role.', 'refhistoryfix2', '_______', '.....', 'them.again', 'non-wikipedia-related', 'nominations/tectonics', \"'list\", 'easily-triggered', 'off-balance', 'child-like', 'self-delusion', 'oft-disclosed', 'mutually-agreeable', 'article.so', '_international_inc', 'know.', 'talk/cont', '~~~~', '3-4', 'world.he', '..', 'it.this', '.....', 't/c', '09:41', 'year=', 'attacks.', '==', 'mrs.', 'agenda-', 'anti-american', '10-k', '29th', '11.', 're-instated', '17:53', 'award-winning', '19th', '19th', 'charles/mirv', \"o'hara\", '2006.', '49th', \"54'40\", 'claim.', 'papers.', 'namaskar|greetings', 'surface.', 'open-minded', 'talk-page', 'wp:3rr', 'wp:3rr', 'talk-page', '-wikid77', ':wp', '1840.', '1848.', 'quasi-criteria', 'v.', 'v.', 'taste-variants', 'semi-educated', 'nation-wide', 'trumped-up', 'december,1704', \"'zafarnamah\", 'personified.he', 'miracles.he', 'bounties.he', 'sins.he', 'us.he', 'time.he', 'all.he', 'army.he', 'universe.his', 'pervasive.he', 'gifts.he', 'universe.he', 'all.his', 'personified.he', 'all.nothing', 'him.he', 'all-knowing', 'learned.he', 'happenings.he', 'universe.all', 'it-not', '22nd', 'december,1704', 'zafarnamah.300', 'fox.otherwise', '|listas', 'ok.', 'so-called', 'this.', 'meetup/nyc', '42.', 'web-sites', 'm.', 'c12', 'carletons.', '~~~~', '18th', 'wikipedia.', '14:02', 'ts/tg', 'ts/tg', 'ts/tg', 'post-surgery', 'under-virilized', 'out.', 'codedon/archives/my', 'un-encyclopaedic', 'vol-ii', 'blood-shed', '2.', 'db-nonsense', 'db-nonsense', 'db-nonsense', \"'commercial\", \"'investment\", 'well-mannered', 'gazeta.pl', '19:01', 're-do', 'non-free', 'mapfre.png', 'mapfre.png', 'non-free', 'non-free', \"'image\", 'non-free', 'you.', 'civil-oligarchy', 'days.', '11111111111111111111111111111111111111111oneoneoneone', 'ga-level', 'play-off', \"'fc\", \"'fc\", \"'tskhinvali\", \"'fc\", \"'jules\", 'good-faith', 'well-intentioned', 'good-faith', \"undo'ing\", 'edit-warring', 'poorly-sourced', 'persons/noticeboard', '23.', '1948.', '20th-century', 'moved.', '..', 'editing.talk', 'mr.', '10,000+', 're-phrase', 'am-11:05am', '4chan', 'e-sports', 'e-sports', 'sites|class=', 'are.', 'self-identified', 'histri-ironic.', 'ausepassport.jpg', 'ausepassport.jpg', '3rd', 'pre-war', 'cleaned-up', 'fear_replica.jpg', 'fear_replica.jpg', 'created/took', 'non-free', '23:58', 'egyptian-israeli', 'arab-israeli', ':i', 'duck.', 'work.i', '//', '//', '//', 'corticotropin-releasing', 'shame-free', 'shame-free', '1982.', 'al.', 'studio.', 'long-term', 'long-term', 'long-term', 'long-term', 'geo-political', 'm.', 'm.', 'properties.the', 'illyrians.org', '26.000', '1944-1945', '30.000', '150.000', '100.000.', 'non-greek', '83.000', 'pro-greek', 'well-established', '1944-1945', 'st.bartholomeus', '1944-march', 'cyber-bullies', 'inc.', 'accessdate=', '7,000', 'owner-operator', '//', 'vs.', 'temper.', 'topic.', 'drv.', 'non-reliable', 'server-side', 'client-side', 'cross-site', 'cross-site', 'xss/injections', 'out-of-the-box', 'harrasing/annoying', '1982.dr', '79-20cosmic', '1980s', 'wanderers.allmusic', 'answers.com', '.paranoia', 'writer/composer/song', '90s', '90s', 'well.', '~~~~', 'tally-ho', '..', 'that.p.s', 'wiki-revenge', 'pen1s', '1802.yon', 'jean-claude', '2000.', \"'other\", 'cg2p0b0u8m', 'manual_of_style_', 'france_', '26_french-related', 'works_of_art', \"'grove\", \"'no-win\", 'problem-', 'inorg.chem', 'p3792-3', 'et2o', \"good'un\", 'indium/gallium', 'c.460', 'so-called', 'flyer22', 'one-sided', 'flyer22', 'sep.', 'peer-reviewed', 'read=poor', 'grass-roots', 'much-loved', 'flyer22', '.......', '....', '......', 'unre4l', 'business.finally', 'unre4l', '..', '....', 'non-', 'wikipedia/wikicommons', 'cc-by-sa-3.0', 'co-edited', 'self-reflection', 'pola/ga1', '3rd', '1st', '1st', '1st', '1st', 'sub-group', 'ourselves.', 'etc.', 'mr.', 'isbn-10', '0231130104.', '2007.', 'it.', 'investigations/backlook', 'powers-that-be', 'anti-strats', 'spin-off', 'farey.', '3rr', 'talk|contribs', 'maryland-related', '~~~~', \"'the\", 'structure.', 'white-related', '00:20', 'comment/lolicon', 'semi-protecting', 'semi-protecting', '28th', '4:58', 'm8', '1800s', 'e-mails', 'p.s', 'e-mail', '==', 'off-wiki', 'simple/complex', '==', 'walton_m', 'hotmail.co.uk', 'con-tense', 'america.', \"'jibber-jabber\", \"'impressive\", \"'very\", 'harm/ill', '..', '25th', 'xxiv.', 'movie.', 'in-line', 'references.', 'mine.', 'pmk1', 'polish-lithuanian', 'hypothetical.', 'pre-installed', '5.50', 'psp-3000', 'psp-3000', '5.70', '5.70', 'pre-installed', 'psp-n1000', '5.70', '3000.', '5.70', 'pre-installed', 'psp-n1000', 'judgesurreal777', '==', '-/', 'p1', 'p2', 'p3', 'p4', 'p5', \"have't\", 'neck-beard', '1.', 'non-existent', '1st', '2nd', '6th', '4th', '3rd', '1st', '5th', 'non-useful', 'merged/deleted', 'overdrive10/kent', 'overdrive10/chris', 'fabartus/sandbox', 's/he', 'non-existence', '22:16', 'manga/anime/game', '..', '22:16', 'y0u', 'l0se', '0h', 'n0', 'd0', 'd0', 'd0', 'f0r', 'qu0ting', 'b00k', 'f0r', 'tr0uble', '0n', '0wn', 't0', 'd0', 'encycl0pedia', 'y0u', 'ass-hat', 't568-a', 't568-b', 'four-pair', 't568-a/b', \"'user\", \"'source\", 'you/we', 'how-to', 'flame-mail', '/dev/null', 'happened.', 'no-one', 'superfast1111', 'abhishek191288', \"'thinks\", '==', 'coverscanvestria.jpg', '==', 'coverscanvestria.jpg', 'non-commercial', 'non-profit', 'non-commercial', 're-upload', 'gfdl-self', 'cc-by-sa-2.5', 'attribution-sharealike', 'pd-self', 'you.', 'john-the-younger', 'john-the-younger', 'things.', '2007.', 'crime.', '1/153rd', '5th', '3-gun', 'ar-15', 'crane.', 'germanic/italic', 'proto-indo-european', 'anglo-saxon', 'south-east', 'proto-germanic', '14:17', '1-894840-36-4', '1-894840-38-0', 'old-fashioned', 'nocal100', 'ha-huts', 'bar-yaccov', 'massacre/terrorist', \"'massacre\", '16/17', '....', 'massacre/ambush', '1948-1957', '1948-1957', 'ma-aleh', 'incident-', 'nocal100', '..', '17:10', '..', \"'you\", 'self-explanatory', \"'non-partisan\", \"ma'am\", '04:36', 'x-factor', '==fachime==', 'reached.', 'pilot-episodes', '2.', '1.', 'same.', 'mis-represent', 'bed-rock', 'what-so-ever', 'clear-cut', \"'good\", \"'good\", 'english/american-english', '==name==', 'miserably.', 'pov-pushing', '27_noticeboard/edit_warring', 'g.c3.b6rlitz', '.28result', '.29', '10:49', '.plz', 'child-killers', 'daddy-dearest', 'neutral-point-of-view', 'ok.', 'incomplete.', '21:14', 'tony1/adminwatch', 'deletion/user', 'tony1/adminwatch', '~~~~', 'g.', 'w4', 'tokyogirl79', 'flat-earth', 'not-so-', '300,000+', '300,000', '300,000', 'i.', 'h-o', '2.', '978-3764824730.', 'm-z', 'worldcat.org', \"'friends\", 'steele.', 'thanks.', '-eman1114', 'self-reverted', 'grguy2011', 'cross-wiki', '101.', '2nd', '..', 'revert.', 'w/', '4-3', \"'oh\", \"'antic\", 'mune-tsuki', 'ganmen-tsuki', 'morote-dori', 'ryote-dori', 'keiko-gi', 'katate-dori', 'mae-geri', 'sokuto-', '-geri', '8pages', 'mr.', 'angel-', '=in+the+summer+of+177', '+irenaeus', '+bishop+of+lyon', '+witnessed+an+increasing+hostility+to+christians+in+his+own+city.', '=in+the+summer+of+177', '+irenaeus', '+bishop+of+lyon', '+witnessed+an+increasing+hostility+to+christians+in+his+own+city.', '=en', '=x', '=t3bjt5tdfzcltwfdu7tuag', '=0cdaq6aewaa', 'non-free', '1960s', 'pro-property', 'anarcho-capitalism', 'wikiquette_alerts', 'december_8', '1.', '2.', 'hindu-arabic', 'history_of_indian_and_arabic_numerals', 'rfc_2', 'history_of_indian_and_arabic_numerals', 'suggested_outline.2c_please_consider_and_discuss', 'indian-arabic', 'indian-arabic', 'history_of_indian_and_arabic_numerals', 'what_this_page_is_about', 'wikiquette_alerts', 'december_8', '22:08', 'wikiquette_alerts', 'december_8', '22:09', '22:10', '23:38', 'wikiquette_alerts', 'december_8', '22:10', \"had'nt\", 'truth.', 'wikiquette_alerts', 'december_8', '~why', 're-adding', 'well-edited', 'a-12', 'sr-71', '19:17', '02:13', '-romans', '8:31', 'greek-related', 'good-faith', 'rule-follower', 'dan56', 'editing.', 're-create', 'mrs.', 'country/nation', 'al.', 'additions/alterations', 'well-regarded', 'free-to-air', '==', 'his/her', 'his/her', '=985991', '=985990', 'non-existent', 'r0', '==', '==', 'mark-up', '~~~~', 'page-', 'hartoandco.com', 'dr.', 'ph.d.', \"'fasst\", '..', 'npov-y', 'gng.', \"'their\", \"'the\", '==', '==', 'self-righteous', '..', '..', 'style=', 'background-color', 'f5fffa', 'padding:0', 'cellpadding=', '|class=', 'style=', 'border:1px', 'background-color', 'f5fffa', 'vertical-align', 'font-size:85', '~~~~', 'width=', 'style=', 'background-color', 'f5fffa', '|class=', 'style=', 'border:1px', 'background-color', 'f5fffa', 'vertical-align', 'three-revert', 'non-free', '|class=', 'style=', 'border:1px', 'background-color', 'f5fffa', 'vertical-align', 'width=', 'cellpadding=', 'cellspacing=', 'style=', 'vertical-align', 'background-color', 'f5fffa', '|-', '|style=', 'threats|no', \"i'de\", 'indian-chinese', 'unblock|', 'emopunkundead13', 'mark-up', '~~~~', 'fun.', '91093contributions', '23:04', '1-2', 'prose-to-image', 'i.e', '1,000', 's.', 'p.s', '-restored', 'me-', 'gfdl-licensed', 'spanish-portuguese', 'i.e', 'i.e', 'ibero-jewish', 'anti-semetic', 'information/references', '22:50', 'time.', 'mexican.', '2-3', '6.', 'non-copyright', '~~~~', '2.0', '23:01', 're-editing', 'anti-americanism', 'anti-americanism', 'middle-east', 'biology/natural', 'biology/natural', 'editing.', '==image', 'visuel2.jpg==', 'visuel2.jpg', 'created/took', 'non-free', 'non-free', 'non-existent', 'article.', 'misleading.', 'o_o', 'etc.', '23:56', \"'method\", 'conform-to-policy', 'user_talk', 'colorprobe|talk', 'contributions/colorprobe|contribs', 'emailuser/colorprobe|', 'probe|extra', 'n-hhits', 'n-hh', 'military-administered', \"'round\", 'half-dozen', 'taxes/steal', \"'military\", 'wide-enough', 'g1', 'yourself.', 'moreed/morad', 'thanks.', '2002.jpg|a', '2002.', '2010.jpg|a', '2010.', '2010.jpg|a', '|declined=exactly', 'vandalism-only', 'e-mail', ':resolute', 'sides.', 'd.', '2.', 'p.', '424.', '=pa424', '1.', 'p.', 'p.', '48.', '0742562964.', '=pa48', 'p.', '80.', '0742562964.', '=pa80', '222/837', 'h.', 'm.', 'g.', 'non-academic', 'sources.', 'proof-of-concept', '29a', 'anti-virus', \"'in\", 'm-theory', 'm-theory', '11-dimensional', 'm-theory', 'm-theory', '11-dimensional', \"'n\", 'admins.', '++++++++++++++', 'agenda-based', 'neo-conservatist', 'counter-argument', 'frcp11', 'discussion.', '~~~~', '202.197.', 'pre-assembled', 'no-one', \"'before\", '|talk', 'a.', 'b.', 'so.|the', 'so.|', 'a.', 'b.', 'c.', 'a.', 'b.', 'a.', '-.-', '^_^', 'umpire/referees/officials', '09:32', 'talk/stalk', 'title.', 'speak/write', 'semi-broken', 'us-centrism', 'un-american', \"'owning\", 'i.e', '1.', '2.', 'his/her', 'he/she', \"'turk\", \"'persian\", 'he/she', \"'minor\", 'he/she', 'his/her', '=78165928', '=78165559', '=history', '=history', '=500', '=tajik', 'he/she', 'he/she', 'he/she', 'he/she', 'his/her', 'nation-based', 'anti-hero', 'user_talk', 'cloudz679', 'half-life', 'e-penis', '|family', 'edits/reverts', 'vs.', '133,306,668', '1/3', '266,613,336', 'i.e', '133,306,668', '266,613,336', '399,920,004', '1/3', '399,920,004', 'he/she/it', 'his/her', '266,613,336.', '6,542,502,827', 'weasel-wording', 're-reported', 'i.e', 'rumors.', 'pov-pusher', \"'delete\", '==', 'serrano==', 'dr.', 're-visit', '90s', 'ok.', '23-year-old', '23-year-old', '30-50', '....', '==the', 'p.', 'p.', 'so-hated-by-him', 'austria-hungary', '.mein', '2.', 'copy/pasted', 'argued.', 'first.', '~~~~', 'free-market', 'u.s.', 'pro-freemarket', 'right-wingers', 'anti-freemarket', 'anarcho-socialist', 'free-market', '2005.', 'reason.', 'anyone.', '.svg', '-plethora', 'unblock|your', 'right-wing', 'extremists.', '.....', 'al-bayati', 'al-bayati', 'al-bayati', 'al-bayati', 'removed.', 'confused.', '......', 'italian-british', 'neo-nazi', 'neo-nazi', 'multi-racial', 'race-denier', \"'sock\", '13:34', 'below-the-line', 'm.', 'kon-el', '01:24', '..', 'hailsatan666', 'satanic_panic', 'own.', '.....', 'action.', 'zondervan|talk', 'fishbonepromo.jpg', 'fishbonepromo.jpg', \"'image\", 'non-free', 'you.', 'share3.0', 'dekolb-wartenberg', '1916.', 'mrs.', '15th', '11th', '....', '==', '==', 'her/his', 're-added', '5-non', 'japan-centric', 'country-centric', 'talk:1994.', 'journalist/photographer/reporter', '~~~~', 'rb72', '+afd', 'that.', '..', \"'rooting\", \"'terminate\", \"'annoy\", \"'bother\", '21:59', 'parrot-of-doom', 'nev1', 'i.e', 'non-error', 'double-check', '1,000', 'utc/gmt', '.there', 'www.ebla-kids.com', 'for.', 'deletion/list', 'telangana-related', '184.6', '185.6', '2006-10-08t13:23:04', '-ache', ',4', 'it.', 'needed.', 'happiness.', '|25px|', '05:49', 'un-specified', \"'first\", \"'national\", 'self-identified', \"'first\", \"'first\", 'etc.', '18:55', '00:02', '05:22', '20:22', '20:46', '21:28', '3rr', '21:30', '21:32', \"'we\", '21:41', 'noticeboard/incidents', '21:43', '21:49', '21:54', 'page-move', '21:56', '21:59', '22:01', '22:04', '22:09', 'article.', 'sino-korean', 'xeno-', '12:15', 'ibm_mainframe.jpg', 'ibm_mainframe.jpg', \"'the\", \"'elite\", \"'the\", 'post-wwi', \"'noble\", \"'white\", \"'ubermenschen\", \"'avantgarde\", 'off-topic', 'slon02', 'editors/admins', '..', 'facts/reasons', '1st', 'non-wiki', 'off-wiki', 'e-mailing', 'the_emergency', '20:39', 'profile.jpg', 'profile.jpg', \"'image\", 'non-free', 'you.', 'respectful.', 'readers-intl', 'readers-intl', '....', 'sign-up', 'process.', 'punya666', 'is/was', 't.', 't.', 'college123456789', '~~~~', 'sub-categories', '22:20', 'requests_for_arbitration/armchairvexillologistdon', 'final_decision', 'fan-blabber', \"'news\", 'horntoadxi/articlename', 'main-space', '.....', '..', 'o-dog.jpg', 'o-dog.jpg', \"'image\", 'non-free', 'anti-vandal', '=.wikipedia.org', '=on', '=2011_in_the_united_states', '=.wikipedia.org', '=on', '=2012_in_the_united_states', '=.wikipedia.org', '=on', '=2013_in_the_united_states', '=.wikipedia.org', '=on', '=2014_in_the_united_states', 'page.', '-23', 'dev920', 'off-wikipedia', 'this.', 'page.', 't.v', 'hahc21', 'talk|contribs', 'talk|contribs', 'talk|contribs', 'wiki-wise', 'hahc21', 'talk2me', 'triple/nom', 'games/character', 'games/character', 'flight.jpg|thumb|100px|right|', 'day/june', 'world-class', 'one-stop', '8th', '2008.', 'ltd.', 'ltd.', 'ltd.', 'ltd.', 'ltd.', 'risk-reward', 'ltd.', 'self-employed', 'ltd.', 'goal/need', \"'opportunity\", \"'technical\", 'clue-bat', 'jr.', 'jr.', 'address/name', \"'junior\", 'article.', 'sanders.', 'counter-nordicist', 'british-nordicist', 'italy.', '2d', 'phun.org', 's.', 'ok.', \"idiom'put\", 'vs.', 'creation/ucw-zero', 'twenty-four', 'd.c.', 'place.this', 'i.e', 'politely.', 're-checked', '23:30', \"'rule\", 'hartle-hawking', 'u2', 'u2', '2011.', 'party-trick', 'space-walk', 're-written', 'paw42', '==', '==', '12:40', 'a.m.', 'h2', '1/n', 'cross-section', 'wikipedia86', '19+9+14', '19+9+14', 'league/teams', 'out-proportioned', 'wdd123', '4.', 'debconf5', '~~~~', '40,000', '14:07', 'employers.', 'wp:3o', \"'preciate\", '-due', 'towards.', 'this.', 'touches/citations', \"'nablus\", '3rr', 'dr.', 'k.', 'kalombo/komeho', 'blp1e', 'precedent-setting', 'law-suit', 'blp1e', '1435:410=3,5', 'anglo-celtic', 'group-', '-load', \"'big\", 'big-boy', '07:20', 'upstater-', 'spot-free', ':the', \"'reasons\", \"'reliable\", 'p.s', 'unheard-of', 'noticeboard/incidents', '1970s', '1900.', 're-insert', 'irrelevant.', 'prefix.', 'left-wing', '1980s', '2nd', 'hard-to-find', '28-29', 'prime-minister', '//www.european-council.europa.eu/media/750848/web_bce_28-29juin_2012.pdf', 'u.s.', 'u.s.', 'a7', 'adap.tv', 'jbvg2014', '8th', 'non-conspicuous', \"'troll\", '77/249', \"'from\", '....', 'l.', 're-editing', 're-staging', 'win-win', '1460s', 'slur-graffiti', 'w/o', 'anti-confederate/anti-secession/anti-revisionism', 'war.', 'seconds.tell', 'acceptable.', 'vp1.3', '=progressivism', '1.', '2.', '3.', '1.', '2.', '3.', '4.', '5.', 'adoptee|arbitrarily0', 'on-air', '00:39', ':yes', 'pokemon.', '............................................................', 'p.s.you', 'g.', 'thanks.', 'requested_moves/technical_requests', 'requests_to_revert_undiscussed_moves', 'dr.', 'wikifan12345', 'dead-enders', '12:47', 're-create', 'advice.have', 'mr.', 'd.', \"'cantonese\", 'reference_desk/science', 'has_anyone_ever_posted_themselves_in_the_mail', ':and', '23:36', 'f-22', 'and-non-biblical', 'bc/ad', 'bandera.png', \"d'ont\", 'pd-ua-exempt', '3rd', '0.02', 're-adding', 'ill-feeling', 'co-operative', '-the', 'bangladeshi-born', 'sylheti-speaking', '-an', 'dhaka-based', '-official', 'ill-fame', '-the', '-dp', 'rights/ngo', 'party-political', 'pro-awami', 'pro-bnp', 'pro-whatever', \"was'nt\", 'b-side', \"was'nt\", 'dupont-columbia', '|listas=one', 'film-book', 'non-israeli', 'non-jews', 'and/or', 'entry.', 'pages/subpages', 'medium-term', 'short-term', '~~~~', 'page.', \"'defunct\", 'yet.', 'pov-ish', 'non-wp', \"'very\", '20th', 'side.', 'copy/pasted', 'ha-ha', 'free-speech', '..', \"'italic\", '3rd', '3rd', 'below.', 'u.s.', 'npov.', 'links/sources', '80-100', '1-', '2-', '3-', '==additions', 'subjects==', 'react-to', 'cultures.aufderheide', '2007.', 'subjects.aufderheide', 'mr.', 'oobituary.com', 'mr.', '~~~~', '==', 'agents/employees', '==', 'honor-system', 'dis-respect', '=675471550', '=675452574', \"'religion\", \"'belief-teaching\", \"'belief-teaching\", 'adriannewey.jpg', 'adriannewey.jpg', '10:57', 'group.', '13:59', 'no-one', '22nd', '23rd', '22nd', '21st', '22nd', '20:45', 'and/or', 'and/or', 'pseudo-science', 'name-callings', 'tacitus-passage', 'pseudo-science', '17.', 'showing-off', 'pseudo-science', 'craig_ferguson.jpg', 'craig_ferguson.jpg', \"'image\", \"'image\", 'free-licensed', \"'cat\", \"'meow\", 'partial-birth', 'mr.', '4.10', '4.7', 'school-boyish', 'mr.', '..', '.....', '.....', '..', '3rr', '3rr', 'pgagnon999', 'pgagnon999', 'st.', 'jwhits.jpg', 'jwhits.jpg', \"'image\", 'non-free', 'school.', '12:41', 'non-profit', 'non-commercial', 'nurses/dieticians', '12,000', 'his/her', 'stitch-up', 'web-based', 'grave-stone', 'parrot-of-doom', '..', 'spelling/grammar', 're-adding', 'wiki-culture', 'and/or', 'msu.edu', 'msu.edu', 'mr.', '2004.', '..', '16:24', 'anglo-israelism', 'anglo-israelism', \"'criticism\", 'assyria-german', 'family/pack', '2006.', '14th', '30-31', 're-arrested', '5th', '19th', 'stuff==', '==', \"'organization'digital\", \"'goldenageofradio.org\", \"'free\", \"'discussion\", \"'consensus\", \"'listen\", \"'discussion\", 'myaviation.net', 'myaviation.net', 'g11', 'guidelines.', 'non-episode', 'you.', '|amiga', 'self-promotion', 'manga|class=stub', 're-opened', 'notbureaucracy.', \"'vandalize\", 'p138', 'panurge/le', 'avant-scene', 'top-level', 'multi-national', 'mouseover.', '23:25', '/when', 'inc./films', 'plunder/return', 'summon/call', '1994.', 'films/inc', 'you.', 'buddy-buddy', 'name-calling', 'vandal-coddling', 'in-line', 'ga.', 'daedalus969', 'vice-versa', 'daedalus969', 'extreme-ist', '-nature', 'an/i', 'an/i', 'c.', 'well-known', '....', 'either.', ':keep', '22:18', '9/11', '...........', '..', '..', '.....', 'rack-on-tours', 'i.e', '-fm', '-tv', 'etc.', 'wnci-fm', '==', 'folks-', 'ok.', 'all-', '20072.', '.dive', \"'brand-new\", 'page.', 'get-go', 'well-being', 'saddening.', \"'you\", 'p.o.v', 'eligibility/certificate/theory', 'states.', '==', '==', 'threads.', 're-added', 'rome.gif', 'rome.gif', \"'image\", 'i.e.', 'created/took', 'fair_use', \"'image\", 'i.e', 'air-bags', 'ski-related', 'pre-paid', 'un-flyable', 'a7', \"'45\", 'policy-based', 'ahir-yadava', 'subject-', '800ad', '6th', '8th', 'b.v', 'no-blast', \"'priests\", \"'priests\", 'redirect/disambig', \"'priests\", \"'catholic\", '..', '===for', 'states===', '19th', '19th', 'non-stop', \"'what\", '22:55', 'indicated.', 'moron.', 'pre-domesticated', 'copy/translate', 'non-free', 'college-level', 'copy-paste', '99.9', 'you.', 'dnsla23', '18:47', 'ban==', '==', 'notices.if', '-tab', '1990th', 'j-dar', '30th', '11:32', 'property/', '~~~~', '~~~~', \"'recurring\", \"'regular\", 'blocks.', 'this.', 'valid.', 'drive-by', '|right', '22:47', 'well-endowed', 'well-endowed', 'front-bend', 'well-endowed', 'front-bend', 'front-bend', '15/7', 'panhead2014', 'self-multiplying', 'mr.', 're-read', 'later.', \"i'kk\", 'side-by-side', '~~~~', 'hanibal911you', 'pro-assad.hanibal911you', 'pro-assad.hanibal911you', 'pro-assad.hanibal911you', 'pro-assad.hanibal911you', 'pro-assad.hanibal911you', 'pro-assad.hanibal911you', 'pro-assad.hanibal911you', 'pro-assad.hanibal911you', 'pro-assad.hanibal911you', 'pro-assad.hanibal911you', 'pro-assad.hanibal911you', 'pro-assad.hanibal911you', 'pro-assad.hanibal911you', 'pro-assad.hanibal911you', 'pro-assad.hanibal911you', 'pro-assad.hanibal911you', 'pro-assad.hanibal911you', 'pro-assad.hanibal911you', 'pro-assad.hanibal911you', 'pro-assad.hanibal911you', 'pro-assad.hanibal911you', 'pro-assad.hanibal911you', 'pro-assad.hanibal911you', 'pro-assad.hanibal911you', 'pro-assad.hanibal911you', 'pro-assad.hanibal911you', 'pro-assad.hanibal911you', 'pro-assad.hanibal911you', 'pro-assad.hanibal911you', 'pro-assad.hanibal911you', 'pro-assad.hanibal911you', 'pro-assad.hanibal911you', 'pro-assad.hanibal911you', 'pro-assad.hanibal911you', 'pro-assad.hanibal911you', 'pro-assad.hanibal911you', 'pro-assad.hanibal911you', 'pro-assad.hanibal911you', 'pro-assad.hanibal911you', 'pro-assad.hanibal911you', 'pro-assad.hanibal911you', 'pro-assad.hanibal911you', 'pro-assad.hanibal911you', 'pro-assad.hanibal911you', 'pro-assad.hanibal911you', 'pro-assad.hanibal911you', 'pro-assad.hanibal911you', 'pro-assad.hanibal911you', 'pro-assad.hanibal911you', 'pro-assad.hanibal911you', 'pro-assad.hanibal911you', 'pro-assad.hanibal911you', 'pro-assad.hanibal911you', 'pro-assad.hanibal911you', 'pro-assad.hanibal911you', 'pro-assad.hanibal911you', 'pro-assad.hanibal911you', 'pro-assad.hanibal911you', 'pro-assad.hanibal911you', 'pro-assad.hanibal911you', 'pro-assad.hanibal911you', 'pro-assad.hanibal911you', 'pro-assad.hanibal911you', 'pro-assad.hanibal911you', 'pro-assad.hanibal911you', 'pro-assad.hanibal911you', 'pro-assad.hanibal911you', 'pro-assad.hanibal911you', 'pro-assad.hanibal911you', 'pro-assad.hanibal911you', 'pro-assad.hanibal911you', 'pro-assad.hanibal911you', 'pro-assad.hanibal911you', 'pro-assad.hanibal911you', 'pro-assad.hanibal911you', 'pro-assad.hanibal911you', 'pro-assad.hanibal911you', 'pro-assad.hanibal911you', 'pro-assad.hanibal911you', 'pro-assad.hanibal911you', 'pro-assad.hanibal911you', 'pro-assad.hanibal911you', 'pro-assad.hanibal911you', 'pro-assad.hanibal911you', 'pro-assad.hanibal911you', 'pro-assad.hanibal911you', 'pro-assad.hanibal911you', 'pro-assad.hanibal911you', 'pro-assad.hanibal911you', 'pro-assad.hanibal911you', 'pro-assad.hanibal911you', 'pro-assad.hanibal911you', 'pro-assad.hanibal911you', 'pro-assad.hanibal911you', 'pro-assad.hanibal911you', 'pro-assad.hanibal911you', 'pro-assad.hanibal911you', 'pro-assad.hanibal911you', 'pro-assad.hanibal911you', 'pro-assad.hanibal911you', 'pro-assad.hanibal911you', 'pro-assad.hanibal911you', 'pro-assad.hanibal911you', 'pro-assad.hanibal911you', 'pro-assad.hanibal911you', 'pro-assad.hanibal911you', 'pro-assad', '/15', '/15', '/15', '55/18/12/15', 'dakota/toonami', \"'back-in-the-day\", 'for/with', '7-31-09', 'shi-', 'beluga-human', '07:50', 'categories_for_discussion/log/2008_october_26', 'fictional_businesspeople', '..', 'propaganda.wellcome', '2601:7:1980:5b5:35e6:8c6c:3d1e', 'a148', '480p', '720x480', '640x480', '480p', '4:3', '16:9', '480p', '720p', '1080p', 'wii-mote', 'ps3', 'ps3', 'ps3', 'wii-mote', 'add-on', 'pixel-perfect', 'ps3', 'wii=wee', '==', 'make-believe', '==', 'istanbul/constantinople', 'middle-eastern', 'x-com', 'x-com', 'auto-generated', 'vandalism/nonsense', '19:57', 'multi-page', '==', \"'summary\", '..', '..', 'non-forked', \"'ireland\", 'f-ing', 'main-page', 'g.b', 'anal-retentive', 'v.', 'v.', 'v.', 'v.', '=utf8', '=1374239624', '=1-3', '=frank+sanello', 'openlibrary.org', 'lower-case', 'v.', 'openlibrary.org', 'v.', 'free-access', 'mla/apa/turabian', 'pre-format', '61-year-old', 'computer-challenged', '2013.', '19+', 'v.', 'openlibrary.org', 'african-american', 'self-publish', \"doesn't.\", \"'45\", 'worshipthisbitch3.jpg', '0.1', 'low-value', 'fact.', '15:10', '..', 'j.', 'talk-email', 'over-worked', 'under-appreciated', 'work/idea', '==', '==', 'i.', 'sept.', '4th', 'sept.', '2006.', '2010.', '08:23', \"'robustly\", 'talk/contrib', '1813-1825', '80-90', 'pro-choice', 'noticeboard/incidents', '08:53', 'vs.', \"d'oh\", 'gran2', '....', 'section==', 'and/or', 'piece/advertisement', 'majo/significant', 'smaller/unsourced', 'inc.', 'tax-exempt', 'bonds.the', 'multi-million', 'tax-related', '650,000', '160,000', 'trades.', '750,000', 'fee-based', 'ex-raymond', 'whistle-blowing', '2010.', 'v.', 'dumb-ass', \"'chance\", 're-negotiate', 'doop.jpg', '.jpg', 'right-click', '.jpg', 'saxe-coburg-gotha', 'improvements.', 'heavy-handed', \"'cause\", 'this.', \"'station\", 'pre-dates', \"'battle\", \"'on\", \"'still\", 'i.e', \"'stationary\", \"'railway\", \"'train\", \"'petrol\", \"'power\", \"'bus\", \"'railway\", \"'train\", 'loco-hauled', 'push-pull', \"'trains\", '....', '23:36', 'irish-language', 'u.s.', 'bristol-plymouth', 'wpschools/ag', 'five-a-side', '16:50', 'this.', 'if-you-are-interested-please-click-link', 'cheung.batgwa.com', 'batgwa.com', '2008-01-31.', '3.', 'all.', 'decline=i', 'farthead==', '==', '|la=yes', '20:15', 'right-handed', 'power.if', 'long/short', '365.25', '365.2425', '365.2422', '365.22', 'fact-based', 'oprah-esque', 'attention-seeking', 'camwhore.', 'w.', 'said.', 'viewfromoldankara.jpg', 'edit/post/delete', 'assumed/hoped/expected', 'google.com', 'edit-conflict', \"'controversy\", '14th', 'i.', 'shah/', 'aktimur/', 'turkish-bulgarian', 'babaeski/turkey', '1924.', 'turkish-bulgarian', 'babaeski/turkey', 'b.1963', 'd.1985', 'b.1970', 'b.1977', 'b.1978', 'b.2006', 'clear-mindedness', '21:36', '3rr', '21:36', 'neo-skeptic', 'were/are', '==', 'ourcottage.jpg', 'copy-edited', 'copy-editing', '==yo', 'now==', 'pre-order', '21rst', 'immediately.', \"ma'am\", \"'floorball\", 'co-operation', 'a930913', 'dru_of_id', 'comment/question', 'g-d', '18:21', 'patent.', '4th', 'w/o', 'kurd-related', 'digg.com', 'reddit.com', '==history==', 'little-known', '-dralberthofmann', 'regards.', 'him/her', 's/he', 's/he', 'frere-jones', 'frere-jones', 'mr.', 'frere-jones', 'his/her', 'mr./ms', 'his/her', \"o'brien\", 'yfa|your', 'afd.', 'ok.', 'talk/contribs', '3rr', 'view.', \"'sri\", '.adilakshmi', 'discussion.these', 'arnaiz-villena', 'mr.', 'co-editor', 'k.', '21st', 'claus-steffen', 'removed.', 'day349', 'pre-enlightenment', '..', '05:04', 'month-day-year', 'day-month-year', 'full_date_formatting', 'conducted.', '-/', 'drug-related', 'drug-related', 'general.', 'fiasco-', 'truth-', 'questions-', 'question-', 'p.s.-', 'identity.', 'pages-', 'school-', 'stalker-type', 'dispute.', '3-revert', 'i.e', '..', 'doubts.', '00:36', 'ridiculous.', '3rd', '4th', 'block/ban', 't-shirts', 'damiens.fr', 'damiens.fr', 'damiens.fr', '..', '|decline=i', '==', '14:55', 'talk|contribs', 'north8000', 'talk|contribs', 'proposed/suggested', 'north8000', 'talk|contribs', \"pov'ing\", 'north8000', '3rr', 'edit-warrior', 'noticeboard/incidents', 'noted.', 'talk/contributions', 're-work', 're-works', 'well-sourced', 'anti-catholic', \"'separated\", 'well-sourced', \"ma'am\", '.....', 'dvyost|dvyost', 'pick-', 'b.', 'hu12', 'hu12', 'hu12', 'consequenceshu12', 'hu12', 'hu12', 'chat-site', 'chat-sites', 'administration.saffron1x', 'hu12', 'chat-site', 'chat-site', 'hu12', 'census.i', '81.7', '12.9', '4.2', 'u.s', 'u.s', '35-45', '85-97', 'u.s', 'long-lasting', 'sourcing.', 'free2play', '10.', 'paying.', '..', '..', '..', '..', '..', '..', 'e.g', 'i.e', 'pressure.', '3:40pm', '10:30pm', 'desudo-umsomekindofendinghere', 'investigations/arab', '~30', 'graphics/logos', 'boskit190/archive', 'tarttdonna.jpg', 'tarttdonna.jpg', \"'image\", \"'image\", 'free-licensed', 'you.', '=why', 'persians/iraninans', 'nonsesne.', 'self-referential', 'to.but', 'option-tehbazzard', 'momentum-carrying', 'boson-mediated', 'high-energy', '1970s', '1980s', 'boson-mediated', 'boson-mediated', 'micro-interaction', 'wording.', '8:12', 'investigations/', 'page.', 'instead.', 'scooby-doo', 'song/video', 'song/video', 'song/', 'robotman1974', 'jan.', '16th', 'nu-metal', '06:30', 'full-on', 'm.v.e.i', '28.', '23:31', \"'wikistatute\", \"'abolish\", '2011-09', 're-synchronized', 'improvements/corrections/expansions', '2011-09', 'translation.', \"'n\", '|royalty-work-group=yes', '|listas=juan', 'non-averostran', 'edit-warring', 'madonna-charts.com', 'edit-warring', 'opinion/vote', 'association.this', 'non-profit', '.right', 'a.k.a', 'well-known', 'movie-goers', 'article.', '....', '20:29', \"l'aerophile\", 'semi-protection', 'beh-nam', 'beh-nam', 'etc.', '..', 'al-bargit', 'osgoode/nyu', 'song.', '....', 'long-count', 'long-count', \"o'brien\", '500m', 'user-page', 'third-party', 'arbitration/requests/case/sockpuppet', 'arbitration/requests/case/sockpuppet', 'arbitration/guide', '9/11', '9/11', '9/11', \"'reverting\", '==in', 'feedback==', 'testing81', '~~~~', 'it.and', '|description', '|source', '|author', '|permission', '==licensing==', 'louis-modeste', 'louis-modeste', 'louis-modeste', 'g13', 'page-widening', 'g13', 'deletereason-dropdown', 'other|the', '02:40', 'i.e', 'described.', 'question.', 'deletion/winzapper', 'third-party', 'them.', 'means.', 'non-negotiable', 'self-published', 'suggestions.', '..', \"'basic\", '_zero', 'understanding.', 'raul-reus', '21:18', 'utc+1', 'check-user', 'editors/admins', 'check-user', 'check-user', '3rd', 'check-user', 'www.network-tools.com', 'no-no', 'check-users', 'check-user', 'geo-ip', 'check-user', '==', '==', 'hard-earned', '.for', '9,999,999', 'someguy1221', 'edit-warring', 'etc.', 'edit-war', 'edit-warred', 'vol63', 'no21.gif', 'vol63', 'no21.gif', \"'image\", 'non-free', 'follow-up', '2009.', 'non-notable', 'second-hand', '1/', 'removed.', '2/', '3/', '4/', '5/', 'second-guessing', 'sub-editors', 'kmca-lp', 'editing.', '4chan', 'viz.', 'me.', 'pluto2012', 'encyclopaedia.', 'triplet/singlet', 'quantum-mechanical', 'simple.', 'proto-semitic', '=sour', '=vinegar', '=acid', 'shape.', '~~~~', 'emotionally-invested', 'non-standard', 'non-standard', '16:48', 'simple/complex', 'u.s.', 'silly.', '==', '==', \"'transcoding\", 'shady/aftermath/g-unit', 're-add', 'dan56', 'rock-base', 'even-handed', 'hip-hop', 'side.', 'self-important', 'kmh03', 'blocked/banned', 'admins/editors', 'betacommand/scienceapologiest', 'unblocked/unbanned', '.caspian', '10,000', '33.', 'skip-', 'match-', 'contains-', 'skip-', 'match-', 'contain-', \"'birth\", \"'category\", '250mb', '14:29', 'un-updated', 'oil-protein', 'so-called', 'half-baked', 'so-called', 'full-time', 'monitoring/editing', 'proven.', '3rr', 'auto-blocked', 'auto-blocked', 'super-really-verifiable', 'un-blocker', 'atomic49er', 'related-', 'already.', 're-institute', 'user931', '2nd', 'article.', 'production_website', 'low|attention=', '|peer-review=', '|old-peer-review=', '|image-needed=', '|needs-infobox=', '__toc__', '18-ethoxycoronaridine', '18-ethoxycoronaridine', '18-', '18-methoxycoronaridine', '2010.', '18-methoxycoronaridine', 'edgar181', '18-methoxycoronaridine', 'sigma-aldrich', '1996.', '18-ethoxy', 'she/he', 'd.', 'reliable_sources', 'thanks.', 'well-written', 't|c', 'i.e', 'it.', 'puppets/cretanpride', '7th', 'page.', 'alexnewartbot/cricket', 'wrote/portrayed', 'in-universe', 't2me', '.wolfowitz', 'g1', 'inter-related', '..', '..', 'possibilities.', 'japanese-korean', '==regarding', '2008==', 'page.', 'agk/advice', '01:33', 'file:05', 'breakeven.ogg', 'file:05', 'breakeven.ogg', 'dawnseeker2000', 'ok.', 'blot-sven', 'article.', 'z.', 'no-blast', \"'the\", '2.5', '....', 'anti-german', 'nazi-germany', 'comment.', '....', '..', '..', 'self-referentially', 'self-publicist', 'point/civil/agf/idontlikeit', \"'gold\", 'self-published', 'well.', \"o'reilly\", \"o'reilly\", \"o'reilly\", 'well.', 'an/i', 'thtp-2d.jpg', 'thtp-2d.jpg', 'wikipedians/wikimedians', '05:14', '3rr', '2:19', 'mbk004', 'mbk004', 'v8', 'centuries-old', 'up-to-dateness', '2.0', '2.0', '.net', 'sp2', 'kashisharora11', \"'molecular\", '4th', 'o.j', 'o.', 'j.', 'e.g.', '09:05', 'self-proclaimed', 'yr.', 'he/she/they', 'is/are', 'mr.', 'dilek2', 'p.', '239.', 'p.o.d', 'statement.', 'vs.', '15:29', 'st.', '==', 'fearnley-sander', 'fearnley-sander', '2nd', '0.', '1/2', '1.5', '1/2', '1.', 'non-standard', '~1', '~6', 'ynyfrik.googlepages.com/kiev.m4a', 'mlb.com', 'edit-a-thon', 'art+feminism', 'edit-a-thon', '2015.', '870-6323', 'anglo-saxons', 'wiki-ing', 'one-line', 'new-comers', 'real-estate', 'hk-style', 'one-liner', '1980s', 'race/breed', 'finger-painting', '19:49', 'riot/massacre/etc', '03:33', \"'whomever\", 'dr.', 'dr.', 'dr.', 'dr.', 'dr.', 'anti-catholic', 'anti-catholic', 'dr.', 'opposite.not', 'them.they', 'can.never', 'nominations/siege', 'nominations/siege', '-steve', '2600:1003', 'b024:1d00:6454:55bc:92d6', 'b6e', '16:46', '16:54', 'care.-', 'random832', '01:00', '12:16', 'hd86', 'deletion/wikipedia', 'incubator/marie', '1/', '2/', '3/there', 'wheel-warring', '1/', '2/your', '3/', '90s', 'e-mail', 'invalid.', 'be/are', 'controversial/deemed', 'economy/society', 'thanks.', 'four-month', '1960s', '1960s', 'pundits.', 'arbitration/requests/case', 'controversial_images.2c_notcensored.2c_and_foundation_principles', 'ludwigs2', 'injuries/call-ups', 'cheers.', 'friends/chris', '1/2', 'way.', 'durand-kerner', 'hum1969', 'hum1969', '911plantisimo', 'hum1969', 'the-15th', 'the-15th', 'german-jewish', 'talk/edits', 'nasrallah.jpg', 'non-free', 'vs.', 'g-unit', '~~~~', '3:16', 'all-loving', '17:15', 'hp7', 'double-skunk', 'triple-skunk', 'piggy-', 'self-assertion', 'perspective.', 'reviewed|1=', '==', '==', 'citizen/national', '......', 'information.', 'egypt-related', 'a1', \"'data\", \"'data\", \"'it\", 'about.com', 'well-known', '09:59', 'command-line', '2.0', 'f.', 'page.', 'unblock|i', 'trekphiler|any', 'requirements.', 'past-within-past', 'engaged.', 'third-person', '22:32', 'hosuronline.com', 'hosuronline.com', 'syria.so', 'area.', '8.8', 'unblock|the', '~~', '11:30', 'you.', 'religion.', 'pen-y-ghent', 'bias.user', 'sock-puppet', 'alien-astronaught', 'literature.', '2009.', 'happy225', 'pocketpool.jpg', 'pocketpool.jpg', 'fair_use', '24/7', '1991-1994', '1991-1996', 'far-fetched', 'guest-stars', 'anyway.rocky', 'pro-palestinians', 'i/p', 't-birds', 'vn00', '3rr', '....', 'roles/posts', 'chellappa.m', \"'the\", 'admin-reverted', 'power.', 'visual/picturesque/photogenic', 'child-disturbing', 'encyclopedia-friendly', 'c.', 'no-original-research', 'national-geographic-quality', 'haik-vantoura', 'deal.', 'helmsaur.gif', 'helmsaur.gif', 'non-free', \"'image\", 'you.', 'well.', 'interest.', '|talk', 'pro-serb', '2a', 'self-published', 'copy-paste', '//c', '6:45', 'p.m.', 'deletion/list', 'in-depth', '//', '~~~~', '2nd', \"bid'ah\", 'at-tabi', '1970s', '1980s', '21:35', '5-6', \"'_noticeboard/incidents\", '1995-1996.', 'nineteen-ninety-frickken-five', '83.7', 'mind.tab', 'funk.tab', 'wp:3rr', 'multiple-picture', 'u.s.', 'infonerd2216', 'two-hundred', 'ok.', \"'off\", \"'on\", \"'on\", 'heads-up', '1960s', 'afternoon.', 'well-known', 'non-classical-specialists', '3rd', '07:39', '01:16', '17:20', 'ass-muppet', '==name==', 'period.', '==', 'ten-foot', \"'unsigned\", '20-30', \"'record\", 'physics/participants', 'north-russian', '18:27', 'i.e', 'church.', 'tiktaalik_by_obsidian_soul_modified.png', '1.', '2.', 'a.', 'b.', 'an/i', 'editing.', 'deletion/the', 'me-', 'd.a', 'talk2me', 'unblock|', 'labor-management', '00:21', '....', 'moped|moped', 'non-formatted', 'example.oggmedia', 'example.oggmedia', 'example.oggmedia', 'example.oggmedia', 'example.ogg', 'dmca-abiding', 'lawyer-power', 'fact-finding', 'puppets/nrcprm2026', '2nd', 'again.', 'e.g', 'suck.grawp', '18:38', 'p.s', '.jpg', '.jpg', 'created/took', 'non-free', 'non-free', \"'personal\", \"'dumb\", 'change==', '==', '-i', '2004.', 'n9ne', 'concerns.', 'sr.', 'mileyworld.jpg', 'mileyworld.jpg', 'non-free', '|charlie', '07:29', 'and/or', 'and/or', 'tower.jpg', \"'rolls\", 'pov-causing', 'opinion-based', 'research.', 'two.', '89.57.', '27.3', '89.5', '1925.', '27.3', 'm.', 'ft.', 'p.', '1pw', 'aromanian-romanian/romanian-aromanian', 'macedonian-aromanian/aromanian-macedonian', 'non-npov', 'non-npov', 'non-neutral', '16:04', 'editors.', '22:15', 'cherry-picked', 'clutter.', 'b.', 'o.', \"'limited\", \"edition'\", \"'limited\", 'english-language', 'opposite.', 'permissions-en', 'wikimedia.org', '~~~~', 'high-pressure', 'jet.', 'final/further', 'joseph2302', '..', '....', '.in', 'msn.com', '|class=stub|importance=low|listas=history', '46.189.28', 'nazi-related', '1906.if', 'see.compare', 'neutrality.there', 'pages.english', 'neutral_point_of_view', 'cite_sources', '9/11', 'oil-rich', 'w.', 'b.', 'h.', '9/11', '9/11', 'avoid_peacock_terms', '..', 'well-designed', 'september_11_attacks', 'the_attacks', '..', 'non-encyclopedic', 'non-existant', 'you.', 'african-american', '====', 'italian/spanish', 'well-phrased', 're-written', 'thanks.', 'pr/marketing', 'in-text', 'high-quality', 're-interpreted', 'de-conflict', 'you.veritas', 'usual/', 'say/', '13:57', '|decline=sorry', \"'stereotype\", 'inner-city', \"'worldly\", '1788.', \"'stereotype\", \"'all\", \"'all\", 'moves/tennis', '-thanks', '50/50', 'quiver_', '13:15pm', '07/06/07', 'anti-vandalism', 'anti-vandalism', '^.^', \"ibn-la'ahad\", '90,000', 'billion+', 'co-founder', '90k', 'sth235silverlover', 'p.s', '==', '==', 'improvised.', 'well-documented', 'magazine.achmednut321', 'auto-processing', '-x', 'already-existing', 'one-sentence', 'non-bot', 'careful.', '|technology', '|2008', '|-', '|wright', '|foreign', '|2005', '|-', '|zilinski', '|art', '|2006', '|-', '|zitz', '|foreign', '|2005', '4th', 'watchtower.', '74/75', 'short-pitched', '16th', 'n5', '00:17', '1st', '~~~~', 's/he', 'a-shell', 'link/unlink', 'is0.50atlantiumstamp.gif', 'is0.50atlantiumstamp.gif', 'non-admins', '01:55', 'readers.', 'html5', '-wikipedia', '-site', 'wikipedia.org', 'html5', '-wikipedia', '-site', 'wikipedia.org', 'no-lifer', 'supporting/objecting/tropicanising', '14/27/12', 're-apply', 'laugh-', 'chess.com', '21:58', 'proceed.', '==blood==', '~talk', '5.', 'editing.', 'indeed.', 'win/loss', 'end.', 'p.s', \"'canvassing\", 'quo=acceptable', 'position=unacceptable', \"'average\", \"'one\", \"'essays\", \"'constructive\", '2008-09', '2009-10', 'non-free', '1940s', '1950s', 'answers.com', '2008.', 'lennart.', 'f1tabuniversal', '..', '1.', 'lame-brained', '2.', '3.', 'cop-', '4.', 'neo-nazi', '5.', '6.', 'retard-', 'korea-centric', '7.', '8.', 'ever-growing', '4/10', 'metropolitan_of_moscow_makariy_nevskiy.jpg', 'metropolitan_of_moscow_makariy_nevskiy.jpg', 'created/took', 'non-free', 'p.s', 'wikipedia.', 'pdf-documents', '1917-1922', '1917-1922', '|ukraine', '1921.', 'editors.', '2006-10-30', '03:34', 'individual.jpg', 'e-mail', ':thanks', 'now.', 'a7', 'yourself.', '/ama', 're-enlist', 'talk|', ':actually', 'marxist-leninist', 'anti-communist', 'tone.', 'dr.k', '3rr', 'anti-wp', 'and/or', 'blp-violation', 'wash.', 'mr.', 'un-called', 'teh_greatest', '16:57', \"'flickers\", 'u.s', 'u.s', \"'you\", 're-registering', \"'bout\", 'edit-a-thon', '7-20', '2015.', 'events.', 'copy-editing', 'look.', 'would-be', 'amazon.co.jp', '1,507,918', 'amazon.com', 'edit-happy', 'well-known', 'confirmation/feed', 'back/ideas', 'deleting/destoying', '1.', 'anti-masonic', '2.', \"'nullify\", 'anti-democratic', 'anti-administration', 'u.s.', '3.', '1832.', 'non-ordinary', '..', '==', '==', '23:22', 'snaaaaaaaahh.', '/dude', 'you.', 'fact.i', 'darkside05', 'up.', 'talk-contribs', '9+9', 'i.e', 'long_months', 'short_months', 'maj.', 'long_months', '=1', '=2', '=3', '=4', '=5', '=6', '=6', '=7', '=7', '=8', '=9', '=10', '=11', '=12', \"'januar\", '=1', \"'februar\", '=2', \"'mart\", '=3', \"'april\", '=4', \"'maj\", '=5', \"'jun\", '=6', \"'juni\", '=6', \"'jul\", '=7', \"'juli\", '=7', \"'avgust\", '=8', \"'septembar\", '=9', \"'oktobar\", '=10', \"'novembar\", '=11', \"'decembar\", '=12', 'short_months', '=5', '=6', '=7', \"'maj\", '=5', \"'jun\", '=6', \"'jul\", '=7', 'dot_months', '=1', '=2', '=3', '=4', '=8', '=9', '=10', '=11', '=12', \"'jan\", '=1', \"'feb\", '=2', \"'mar\", '=3', \"'apr\", '=4', \"'avg\", '=8', \"'sep\", '=9', \"'okt\", '=10', \"'nov\", '=11', \"'dec\", '=12', '=6', '=7', 'long_months', 'is_valid_month_range_style', '2015.', '04:54', 'deleter/deletor', \"'justice\", 'u2', 'u2', 'p.', 'p.', 'that.', \"queen's/king\", 'sh1t', 'l.', 'myeongseong.caspian', '6.9', 'wp:3rr', \"'come\", '-d', '==', '==', 'mind-', '10^10^100', '10^', '10^100', '10^', '10^7', '10^10000', '10^', '10^100', '10^100', 'court-hearing', \"'court-hearing\", \"'he\", 'first.', '..', '....', '....', '11/28', '01:19', 'money-bomb', 'internet-based', 'record-breaking', '5.', '2007.', '5th', 'modern-day', 'fawkes-like', 'one-day', 'break-up', 'co-produced', 'co-producer', 'that.', '30secs', 'wikipedian.', 'high-rise', '05:49', 'divy1996', '21:05', '07:34', 'puppets/mel_etitis', 'talk-email', 'anti-einstein', 'i.e', 'please.', 'aspersions.', '01:21', 'tali-ihantala', 'go-ahead', 'zadora13', '45-50', 'asked.', 'zh.wikipedia', 'jim62sch', '..', '.put', 'eschweiler-clarke', 'were/are', 'is.', 'wp:3rr', 't//e/c', 'p.s', '^_^', '10th', 'minister.', 'e.g', 'dr.', 'flare-lit', '//en', \"all'indiano\", 'd.a.borgdorff', '|class=start', '|importance=high', '|gynecology=yes', 'three-sheet', 'one-sheet', 't-shirts', 't-shirt', 't-shirt', '23:38', 'obtaining_images', 'ok.', 're-insert', 're-insert', 're-insert', 'and/or', 'mind.', 'i.e', 'e.', 'w.', 'chapter/section', 'mr.', 'peer-review', 'article.', 'mickey125', 'mark-up', '~~~~', 'fun.', 'access/the', 'anti-gay', '~~~~', 'counter-narrative', 'self-immolation', 'self-immolation', 'self-immolation', \"'argument\", 'self-immolation', 'well-founded', 'side-box', 'evidence-based', 'image-making', 'counter-propaganda', 'lhd/rhd', 'pf770', 'two-tone', 'user_talk', 'kungming2|', 'actions.', 'watchlist.', '12:25', 'unclear-', 'sriwijaya-', 'temasek-', 'gujarat-', '-1400', 'nobility-', 'note-', 'mongols-', 'tribute-', 'pre-zheng', '17ish', 'matter.', 'mr.', 'english-speaking', 'editing.', 'self-reverts', 'self-revert', 'error.it', 'ural-375', 'ural-377', 'ural-375', 'ural-357', 'assertion.', \"amb'dor\", 'mitchel_francis', 'horacemann.org', 'a.', '100,000', 'talk:100,000', '19:02', '9th', 'two-parter', '20:39', 'off-the-cuff', 'used.', '100,000', 'vs.', 'agree/have', '16:18', '100,000', '100,000', '16:39', '08:41', \"'punch\", 'width=', 'style=', 'width=', 'style=', 'background-color', '|style=', 'border:1px', 'background-color', 'vertical-align', 'exclusively7', '~~~~', 'width=', 'style=', 'background-color', '|style=', 'border:0', 'background-color', 'vertical-align', '|style=', 'border:0', 'background-color', 'vertical-align', 'width=', 'cellpadding=', 'style=', 'vertical-align', 'background-color', '|-', '|style=', '|-', 'p.s', 'meta-analysis', 'meta-analysis', 'meta-analysis', 'meta-analysis', 'anti-vaccination', 'hyper-responders', 'fine.', 'self-soothing', '....', '2007-', 'twelve-minute', 'logo.', 'anywhere.', '~~~~', 'bigweeboy/tm-evidence', '2.0', '1.', 'p.s', 'w.', 'un-simperingly', 'two-minute', 'bush-ites', 'self-importance', '14-year', 'today.', ':that', '20:26', 'g1', 'yourself.', 'style=', '0.1em', '08:23', 'e.g', 'pseudo-hindu', 'dawnseeker2000', '19:08', 'blp/nor', '22:54', '|sockpuppets|', \"'great\", '..', 'revert-', '1.2', '1.8', 'sorting-out', '18:29', 'dokdo/liancourt', 'rock/takeshima', 'not.', '100x', '100x', '2602:252', 'd2d:4170', 'dea:9f7b:2752:4c92', \"j'accuse\", 'list.', 'two-letter', 'sm-geo-stub', 'serbia-montenegro', 'afghanistan-geo-stub', 'sorting/stub', 'place-related.2c_by_region_-_geography', '|hello', 'full-scale', '12:40', ':good', 'there.', 'a7', 'y-dna', 'adn-y', 'y-dna', 'y-dna', 'j1', 'elvispresley1', 'lowercase-g', '15:49', '07:25', 'mr.', 'studies/evidences', 'proto-iranian', '1.1', '1.3-1.4', 'east-asian', '19the', 'hidari-mitsudomoe', 'fijai-gumun', 'comma-shaped', 'midari-mitsudomoe', '1950.', '19th', '3-4', '1-2', '20not', '20prion', 'acceleration.-', 're-do', 'diannaa/archive', 'diannaa/archive', 'copy-edit', 'v.', 'la-area', 'first-ever', '19th', 'meetup/la/invite', 'ppv.c', '..', 'al-rashid', 're-read', \"'boilerplate\", 'pre-written', \"'boilerplate\", 'case-specific', \"'dodo\", \"'addressing\", \"'address\", \"'meat\", 'non-involved', 'daco-thraco-protoalbano-greco', '11:01', 'hop.i', 'mrivera25', 'decline=there', 'and/or', 'gay.a', 'news-record', 'u.', 's.', 'fact.', 'abpw10', '2010-04-27', '0730z', 'like.', 'too.', 'talk|', \"'target\", \"'initiator\", 'ok.', 'denied.', 'ntributions/|explain', 'momusufan|momo', 'ph.d.', \"'fasst\", '..', '..', '..', 'durin-treatment', \"'em\", 'before.', '-or-', '3rr', '3rr', '21:19', 'i.e', 'pov-pushing', '4.3', 'inappropriate.', 'weirdly/elegantly', '14:08', 'jedstrutt.jpg', 'jedstrutt.jpg', 't.a.r.p.', '1999.', 'fifa.', '10/week', 'cycle.', '13:32', 'judeo-arabic', 'pacificwarrior101', 'non-collegial', 'whitewash.', 'slpl1', 'clear-cut', 'flat-out', 'was.', '....', 'anti-irish', 'unblock-someone', 'copied/tweaked', 'x10', '..', '....', '15:40', '8th', 'no.i', '300lbs', 'too.my', 'face.sorry', 'ft2', 'pov-pushing', 'pov-pushing', 'b.d', 'm.', 'm.', 'little/no', \"'death\", \"o'neill\", 'cowboys-redskins', '-this', '-this', '-this', '09:46', 'i.e', '0.', 'matter-antimatter', '18:13', 'non-free', 'non-free', 'copy-righted', '1871.', '1886.', '//website-in-a-weekend.net/making-money/advertising-design/', '21:25', 'cold7realm', 'disagree.', 'an/i', 'fact-tagged', '23:29', 'hummer2.jpg', 'hummer2.jpg', '1960s', \"'70s\", '16:57', 're-classify', 'all-important', '1700-1750', 'off-topic', '..', 'better.', 'ashley-ann', 'amazon.co.jp', 'removed.', '==i', 'code==', 'code.', '=50', \"'wikipedia\", \"'it\", \"'she\", 'point-blank-intuitive', 'well-founded', 'thanks.', 'copyright-free', 'osli73', 're-writes', '8th', '8th', '8th', 'mgb-81', \"'saved\", 'mtb102', '6th', 'vandals.', '=260732791', '=260409669', 'boys.', 'style=', 'background-color', 'f5fffa', 'cellpadding=', '|-', 'style=', '1px', 'background-color', 'f5fffa', 'vertical-align', '~~~~', 'width=', 'style=', 'background-color', 'f5fffa', '|style=', 'border:1px', 'background-color', 'f5fffa', 'vertical-align', 'width=', 'cellpadding=', 'cellspacing=', 'style=', 'vertical-align', 'background-color', 'f5fffa', '|-', '|style=', '|-', '|-', 'style=', 'list-style', '|-', '|-', 'style=', 'three-revert', '2010.', 'sovereign-free', 'write-off', 'write-off', '1992.', 'write-off', 'write-off', '10:09', 'gsd2000', 'e.g', 'gsd2000', 'gsd2000', '7:05', 'on-wiki', 'talk|', '16:31', 'skin-vul-lee', 'cross-linking', '//', 'side-tracking', 'article.', 'femininism.', 'a930913', '20:39', 'imdanumber1', 'right-hand', 'to/from', 'to/from', 'fig-leaf', 'high.', \"rv'ed\", 'how_to_ask_for_citations', 'so-called', 'so-called', 'well.', 'gentlemen.', '3rd', '750,000', '700,000', '700,000', '13:32', 'naming_conventions_', '28definite_and_indefinite_articles_at_beginning_of_name', 'rule_of_thumb', '14:05', \"'netherlands\", \"'the\", '14:17', \"'united\", \"'the\", '18:15', '18:01', 'u.s.', '.......', 'a/an', 'standard.', 'article.', '~~~~', '16th', '09:21', '3-minute', 'transgressions/talk', 'a.rami', 'anti-evolution', 'evolution.2001', 'two-sentence', 'two-sentence', 'anti-evolution', 'anti-evolution', 'n.', 'publicmind.com', 'publicmind.com', 'stub-article', 'a7', '-web', 'assertions.', 'myspace.com', '1.', '3.', 're-read', '4.', 'pro-independence', '8.', '9.', '13.', 'israel.', 'e.g', 'en.wiki', 'talk/stalk', '34,000', 'toddst1', 'toddst1', '20th', 'full-protect', 'high.', '20:47', 'three-revert-rule', 'op-ed', 'e.', 'op-eds', 'and/or', 'peer-reviewed', 'mr.', '=//=', 'counter-strike', 'half-life', '7th', '2004.', 'hl2', 'st.paul', 'st.paul', 're-write', '33,000', '20:09', \"insh'allah\", '10,000', '13:53', 'thirty-seven', 'copy/paste', 'url-encoding', '03:17', \"'08\", 'everybody.', '25th', '2012.', 'amazon.com', 'non-pr', 'ok.', '07:01', 're-elected', '1970s', 'world.the', 'al-zawahiri', 'sipah-e-sahaba', 'tehreek-e-taliban', '1958-1991', 'land-locked', '1977-', '1978.', 'lashkar-e-jhangvi', 'lashkar-e-taiba', '.these', 'jihad.pakistan', 'ahl-e-hadith', 'organisation.kashmir', 'non-muslim', 'e.g', 'self-reported', 'mid-eastern', 'u|', '19:08', 'dr.', 'dr.', 'op-eds', 'must-reads', 'court-appointed', 'also.', '20.', 'loboborracho888', 'anti-semite', 'sure.', '2/28/07', 'nationalgeographic.com', 'earth-like', 'c02', 'man-made', 'super-mature', \"'ee'/'oo\", \"'regularity\", \"'one\", 'fix-it', 'yechiel.jpg', 'oxford-crappy-simplyfying', 'pov-pushers', 'you.', '20-30', 'lesbians/women', '9.30pm', \"'lebanese\", \"'australian\", 'one-sided', 'self-confessed', '2005.', 'preferences.', 'citation/reference', 'above.', 'neutral-point-of-view', '.....', 'deletion.', '5b', '5bwikipedia', '3aarticles+for+deletion', '2fstephano+barberis', '5d', '5dafd', \"'save\", 'de-facto', 'well-sourced', '2007.', '2009.', 'wnd.com', 'foxnews.com', '.we', 'pro-homeopathy', 'mess-up', '|listas', '==', '==', '16-', 'launches.svg', 'launches.svg', '31st', '..', 'sentiment.', '5th', 'jonesey95', '5th', 'n.', '1.', 'i.e', 'c.', 'a-class', 'quick-failed', 'a-class', 'quick-fail', 'quick-fail', 'a-class', 'b-class', 'p.', 'wiki-known', '6-fingered', 'love-child', \"'emptyness\", 'emptyness/space', 'confusion.', '==ga', 'review==', 'sholay/ga1', 'talk2me', 'talk2me', 'laws.', '1939-40', '1944-45.', '1939-40', '1944-45', '19:10', '18:20', 'sub-article', '100k', 'sub-pages', 'clue-bat', 'block/unblock', \"'does\", 're-add', 'd.', 'co-conspirator', 'ussr.', '....', 'failed/crashed/blew', 'up/was', 'high-profile', 'highly-edited', '447.', 'origin/destination', 'edit-only', 'never-talk', 'ps4', '2.', 'involutions.', 'm_ij', '20:11', 'coconutfred73', '9:45', \"'fuck\", 'know-it-alls', 'style=', 'background-color', 'f5fffa', 'padding:0', 'cellpadding=', '|style=', 'border:1px', 'background-color', 'f5fffa', 'vertical-align', 'pfm77', '~~~~', 'width=', 'style=', 'background-color', 'f5fffa', '|style=', 'border:1px', 'background-color', 'f5fffa', 'vertical-align', 'three-revert', 'non-free', '|class=', 'style=', 'border:1px', 'background-color', 'f5fffa', 'vertical-align', 'width=', 'cellpadding=', 'cellspacing=', 'style=', 'vertical-align', 'background-color', 'f5fffa', '|-', '|style=', \"'this\", 'style=', 'background-color', 'f5fffa', 'padding:0', 'cellpadding=', '|class=', 'style=', 'border:1px', 'background-color', 'vertical-align', 'font-size:85', 'dagnall1', '~~~~', 'width=', 'style=', 'background-color', '|class=', 'style=', 'border:1px', 'background-color', 'vertical-align', 'three-revert', '|class=', 'style=', 'border:1px', 'background-color', 'vertical-align', 'width=', 'cellpadding=', 'cellspacing=', 'style=', 'vertical-align', 'background-color', '|-', '|style=', \"'versailles\", \"'philharmonic\", 'two-week', 'anymore.', 'insta-blocked', 'desysop/block', 'long-term', 'captain-poison', 'non-pov', 'al.', 'three-revert', 'three-revert', '18:37', 'apostrophe-s', 'so.', 'tip-off', 'tip-off', 're-address', '16:02', 'post-u.s.-copyright-protection', 'not-withstanding', '||', 'a.', '17:05', '80.', '....', 'bart133', \"'juvenile\", '06:46', '1598-1600', 'capture/trade/steal', 'i.e', '330-307-2428', '.............', 'anti-catholic', 'so-called', 'wishy-washy', 'time.', 'v.5', 'v.5', '3/4ths', '2006.', 'ok.', 'user-edited', 'web-based', 'non-notability', 'closely-related', 'b.a', 'b.s', 'b.s', 'b.s', 'b.a', 'b.a', 'b.s', 'science/studies', 'b.s', 'b.a', 'b.a', 'b.a', 'b.s', 'b.s', 'b.a', 'b.s', 'b.s', 'b.a', 'b.a', 'tornado/twister', 'jarvis76', 'i.e', 'waterlooroad.co.uk', 'i.e', 'waterlooroad.co.uk', 'twitter.com/waterlooroadtv', '1st', '==', '==', 'self-references', '~~~~', '05:10', 'vs.', 'text-screenshot1.png', 'text-screenshot1.png', 'cargo==', '==', 'non-neutral', 'non-intrusive', '~~~~', 'guidelines.', 'f.', 'w.', '233-235', 'it.', '04:47', 'non-sequitor', 'non-analogous', 'out-of-whack', 'halves.', ':many', 'non-indian', '.man', 'mr.', 'and/or', 'non-masonic', 'e.g', '09:10', '00:03', \"'wikicrats\", 'self-importance', '1969.', '..', 'buydrugs247.com', 'khalili.pdf', 'fascists-', 'aughanmellatis-', '1st', 'g4', 'up-to-date', '2nd', 'amazon.com', '3rd', 'g4', '14:49', 'tanthalas39', 'u+200e', 'left-to-right', \"'literature\", 'copy/paste', 'de-italicized', 'c.s', '^_^', 'country/archive', '15:21', 'wikipedia-', 're-working', 're-inserting', 'all-purpose', 'e.g.sustainable', 'e.g.', 'e.g.', 'eco-municipalities', 'e.g.', 'ms13', '22:13', '|filename=skream-rutten-sample.ogg', '|title=skream', '|description=excerpt', 'half-time', '|format=ogg', '0.5', 'class-a', '==please', 'silly==', \"'chateauesque\", '19th', 'taste.', 'ping|tony1', 'bit.', '..', '..', '..', \"'tastes\", \"'ice\", \"'great\", 'mediawiki.org', 'i.e.', '100.', 'coolie/koolie', '6/1/06', '6th', 'e-mailing', '~~~~', '2,000', \"'reviews\", '83kb', 'x2', 'middle-east', 'woul.d', 'don.t', 'version.', 'jean-thierry', 'bus-shelters', '-instinct', \"'controversies\", 'f-in', '-aidan', '==', '==', 'tri-mage', '....', 'cccc|7|0', 'padleft:300000|7|0', '0,300,000', '5,000-10,000', \"'~\", '5.', 'ps3', 'ps3', 'long-term', 'semi-protected', 'guys/gals', 'encyclopedia.', '10am', 'radio666', '\\\\talk', 'biology.umaine.edu', '03:43', 'a7', 'subject-specific', 'dr.', '==', '==', '/=', 'ms.', '09:02', 'oct.', 'fan-work', \"'revert\", '13:45', 'e.g', \"'memory\", 'ill-advised', 'thanks.', '1970s', '1980s', '1990s', '2000s', 'neilptimrose.jpg', 'non-valid', '07:48', 'removal_of_uncivil_comments', 'crime/offense', 'width=', 'style=', 'width=', 'style=', 'background-color', '|style=', 'border:1px', 'background-color', 'vertical-align', '~~~~', 'width=', 'style=', 'background-color', '|style=', 'border:0', 'background-color', 'vertical-align', '|style=', 'border:0', 'background-color', 'vertical-align', 'width=', 'cellpadding=', 'style=', 'vertical-align', 'background-color', '|-', '|style=', '|-', '3com', '1980.', 'master-slave', 'c-64', 'vic-20', 'vic-20', 're-hired', \"ele'ele\", 'hi.', 'high-visibility', 'lower-visibility', 'jamies93', \"'45\", '\\\\talk', 'zmjb37', '~~~~', 'a7', 'a7', 'm1gosyrntrillog', '1988/89', '1996/97', '1988/89', 'template:1988/89', '1990/91', 'template:1990/91', '1991/92', 'template:1991/92', '1992/93', 'template:1992/93', '1993/94', 'template:1993/94', '1993/94', 'template:1993/94', '1994/95', 'template:1994/95', '1995/96', 'template:1995/96', '1996/97', 'template:1996/97', '1987/88', 'e.g', 'grateful.', 're-adding', 'music-related', 'half-full', \"'em\", 'bad.', 'sen.', 'quickly.', '|decline=no', 'e-mail', 'non-sysop', 'them.', 'vs.', 'info-deleting', 'chappelle-nadal', 'third-parties', 'secondary-source', 'non-issue', 'now-settled', '5s', '3g', '3gs', '4s', 'co-founded', '03:11', '103,103', '-816', '....', 'us.', '..', 'six-day', 'pre-war', 'blood-curdling', 'al-yahud', 'six-day', 'so-called', 'so-called', 'israeli-occupied', 'far-reaching', 'removed.', '23:59', '3d', 'zx81', 'zx81', 'zx81', 'must-have', '64.', 'ibid.', 'p.', '66.', '67.', 'cit.', '68.', '69.', '70.', 'p.', '71.', 'cit.', '120.', 'cit.', 'p.', '72.', 'cit.', '73.', '74.', 'cit.', 'p.', 'ibid.', 'p.', 'cit.', '76.', 'he-goats', '70a', 'v.', '77.', '78.', 'free-masonry', 'd.f', 'a.q.c.', 'well.', 'thanks.', 'anti-muslim', '800,000', 'fiszbein-cct', 'cover.gif', 'fiszbein-cct', 'cover.gif', 'fucking-ass', 'rock-hard', 'weed-smoking', 'piss-poor', 'man-hag', 'f++ked', 'an/i', 'page.if', 'me.thanks', 'old-school', 'gwb-style', 'music-stub', 'classical-comp-stubs', 'mis-edits', 's.', 'v8', 'edit-warring', 'serbo-croatian', 'serbo-croato-slovene', '....', 'wiki-troll', 'it.', 'clarkcj12', 'jecob8888', 'jecob88888', 'jecob88888', 'himself/herself', 'he/she', 'vulture11.jpg', '\\\\talk', \"'fenian\", 'an/i', '3rr', '3rr', '..', \"'test\", 'article/page', 'the_maiden_city', 'blue_is_better', '08:18', 'wikipedia86', '19+9+14', '19+9+14', 'editing.', 'i.e', 'east718', 'herbertgursky.jpg', 'herbertgursky.jpg', 'i.e.', 'created/took', 'fair_use', '3rd', 'a520', 'a520', 'a.', 'corbett-fiacco', 'as-yet', 'self-published', 'gmail.com', 'self-promoting', 'national/religious/cultural', 'self-publish', 'corbett-fiacco', 'alexa.com', 'undergo-', 'research/information', 'u/l', '1.81', 'non-profits', 'neo-liberal', 'e.g.', 'happyme22', 'adtiors/administrators', 'non-npov', '-again-', 'happyme22', 'adtiors/administrators', 'non-npov', '-again-', 'happyme22', 'adtiors/administrators', 'non-npov', '-again-', 'happyme22', 'adtiors/administrators', 'non-npov', '-again-', '65000+', 'non-native', 'u.s.', '13:13', 'albatross18', '2008.', '2009.', 'thanks.', 'away.i', 'truth.these', 'today.rest', 'propaganda.the', 'it.byebye', '==origin', 'article==', 'derild4921', \"'help\", 'john_d._axtell', 'e-mail', 'e-mail', 'country.', ':you', 'genseiryu-butokukai', 'genseiryu-butokukai', 'mr.', \"'our\", 'sarah_ewart', '17:16', 'p.s', 'theo789', 'i.e', 'bf2', 'bf2', \"'killing\", 'u.s.', 'two-year-long', 'a-class', '15,000', '2,000', 'greece-related', 'greece-related', '.to', 'greece/outreach', 'pietrosperoni/primal', ':actually', 'isbn:8172013329', 'written.', 'questions/concerns', '....', '.....', 'backed-up', 'flyer22', 'film.', 'm8', 'geographic/cultural', 'is/was', 'i.', \"'wisemen\", 'look-up', 'nine-year-running', 'luck.', 'vanessaluver4ever', 'encyclopedia.', \"'king\", \"'the\", 'e.g', '-anon', '11:23', '-doing', '8.4', '2nd', 'drop-down', 'arms/trade', '2nd', 'here.', \"'other\", 'wgkf.', 'i.e', '....', 'turkish/arab/african', '..', '==', '==', 'mr.', 'and/or', 'mr.', 'a.', 'non-ethnic', 'mr.', 'national/ethnic', 'b.', 'mr.', 'and/or', 'crum375', 'a-hole', 'dittu_dittu', 'rediffmail.com', '.love', 're-submit', '1.2', 'page.', 'en.wikipedia', 'cad-related', 'man-hours', '17:05', '..', '20:39', 'e.g', '18.', 'self-proclaimed', '20th', '1949.', '....', 'reason.', 'anti-catholic', '..', 'mr.', 'e.g.', 'bank-issued', 'e.g.', 'u.s.', 'u.s.', 'u.s.', 'money.', \"'metropolitan\", 'win.', 'here.', 'kudzu1', '1.', '2.', '3.', '4.', 'long-term', 'opinion.', '2008.', '1/5/09', '~~~~', 'discussing-', '-our', '1945.', 'him/her', 'he/she', \"j'accuse\", '3rd', 'a.', 'b.', 'a.', 'b.', 'c.', 'a.', 'b.', 'a.', 'non-free', 'b.', '|some', 'review/copyedit', '|very', 'review/copyedit', 'countries.', 'it.', 'category_talk', 'discrete_distributions', '=//=', '==', 'ankle-length', 'asia/mongolia', '02:05', '....', '....', '....', 'you.', 'lame-duck', 'content-', '08:27', '16.', '-7', '48hr', 'talk/stalk', 'hahc21', 'nominations/papi', 'paraphrasing/quoting', 'as-is', 'to-be', 'value-add', 'creative/innovative', 'state-transition', 'nlp.', '17:55', 'u.s.', 'u.s.', 'information.', 'site.', 'history/literature', 'accomplish.', 'j.', 'language.', '424==', 'pp.79-80', '4.50-2', '==', 'facethered.com', 'free-to-all', 'organization.', 'noart.uh', '=1', '=2', '=utf-8', 'q=amiel', '20tison', '==', '2007.', '==', 's/then/than/', 'off-wiki', 'topic-ban', '18:33', \"'cause\", \"'38\", \"'44\", \"'44\", 'katrina-like', \"'44\", 'n.j.', 'coi/sockpuppetry', 'wiki-pedos', 'searchers2.com', '-good', 'nazi/evil', 'dictatorship/totalitarianism', 'pro-freedom', 'religion/speech', 'pro-freedom', 'pro-whatever', 'self-absorbed', 'e=not', 'life-living', 'peejay2k3', 're-add', 'consensus-builders', 'obtained.-', 'inappropriate.', '17:54', 'up.', 'him/her', 'articles.you', 'asquirm.jpg', 'asquirm.jpg', 'relevant.', '....', '....', 't/c', 'belly-cheeze', '3lee3', '8allz', 'omgzkenda.jpg', 'omgzkenda.jpg', 'israeli-lebanese', 're-iterate', 'no-one', 'middle-east', 'pro-israeli', 'pro-muslim', 'bias.', \"'numerology\", 'g-d', 'g-d', '6:10', '6:18', '7:7.', '22:19', 'middle-earth', '2.', 'wikipedia.', 'solstice.jpg', 'solstice.jpg', '13:45', 'mr.', 'd.a', \"d'existence\", \"d'une\", 'd.a', '12:53', 'non-democratic', 'austro-hungarian', 'etc.', 'creation/sheikh', 'r.a', 'submission/submit', 'non-neutrality', 'non-neutral', 'a.k.a.', 'double-standards', 'non-neutrality', 'non-neutral', 'non-neutral', 'fair-and-balanced', 'vs.', 'non-neutrality', 'so-called', 'evidence-based', 'i.d', 'i.d.', 'i.d', 'i.d', 'non-neutral', 'scientific-basis', 'non-neutrality', 'watchdog-like', 'you.', 'user_page', 'how_do_i_delete_my_user_and_user_talk_pages.3f', 'en-wiki', 'post-testing', 'user_talk', 'geospatial-intelligence', 'nuts+lau', 'adm1', 'first-order', 'adm2', 'second-order', 'first-order', 'adm3', 'third-order', 'second-order', 'adm4', 'fourth-order', 'third-order', '2-4', 'adm1', 'i.e', '//sbay.transportation', 'mr.', 'sbay.transportation', 'co-founded', '//ba.transportation', '==', 'huastecapic.jpg', '==', 'huastecapic.jpg', 'non-commercial', 'non-profit', 'non-commercial', 're-upload', 'attribution-sharealike', ':you', 'all.', 'him.', 'counter-coup', 'vs.', 'jacobs.00', 'talk|email', '==', '==', 'mediawiki_talk', 'co-exist', 'tc-a', 'sort-of', 'weeks.', '23:24', '2.0', '....', 'you.', 't1', '/userboxes/', '|listas', 't/c//wp', 'chicago/wp', 'coi/npov', 'do-it-yourself', 'article.', '~stealthepiscopalian', 'de-escalate', 'vs.', '12:52', \"mu'min\", 'munafiq.', 'article.thank', 'dan56', 'dan56', \"'45\", 'down-on-their-luck', 'and/or', 'electro-arc', '22:01', 'al-libi', 'al-qaeda', 'high-ranking', 'pre-authorisation', 'context.', '~~~~', 'her/his', 'y4kk', 'it.', 'unpleasant.', 'cutting-edge', '4-corner', 'closed-minded', 'dynamic/cyclical', 'proselytisation/brainwashing', 'word-scam', 'word-shackles', 'academic-induced', '1-corner', '4-corner', 'name-calls', 'problem.', 'e.g', 'block/unblock', 'arbitration/requests/case/eastern_european_mailing_list/proposed_decision', 'arbitration/requests/case/eastern_european_mailing_list/workshop', 'editing_restrictions_proposal', 'wikipedia_talk', 'arbitration/requests/case/eastern_european_mailing_list/proposed_decision', 'on_russavia', 'user_talk', 'alleged_legal_threats_issued_by_myself_and_unblock_request', 'admin.', 'unblock-to-participate-in-the-rfar', 'blocking/unblocking', 'you/we', 're-evaluate', '0.02', 'night/saturday/sunday', '==', '==', 'socio-political', '5th', '6th', 'one-sided', 'innapropriate.', 'adamsawlawrence.jpg', 'adamsawlawrence.jpg', \"'image\", 'non-free', 'you.', 'it.thanks', 'edit-warring', '==', '==', 'all.', 'ed17', 'style=', 'border:1px', 'background-color', 'align=', 'australia|', 'align=', 'nz|', 'align=', 'egypt|', 'align=', 'fiji|', 'align=', 'usa|', 'align=', 'canada|', 'align=', 'brazil|', 'agenda.talk', '..', 'bible-based', 'a-weighting', 'equal-loudness', 'noise-like', '~~~~', 'kosovo-related', '|decline=while', 'well-written', '18:54', 'x-men', \"'eleanor\", 'wp:3rr', \"'ip\", '3rr', 'autoblock-finding', '20:48', '9/11', 'radiation-induced', 'review/asics|editor', 'arch-debunker', 'higher-ups', 'order.', \"ma'am\", 'other.', '2008-06-02', '18:01', '^_^', '.jpg', '18:59', 'clean-up', 'sicilian/french', 'said.', '11:00', '1,500', 'high-resolution', 'non-free', 're-add', 'pacificwarrior101', 'events/canada', 'stop-band', 'band-reject', 'band-reject', 'self-proclaimed', '21st', 'century.', 'i.e.', '_monitor', 'non-jewish', '_monitor', 'g11', 'image:13766776.jpg', 'image:13766776.jpg', '-a', 'ms.', '1908.', '1-minute', '45-second', 'hour-long', 'u.s.', '1903-1905', 'dec.', 'w.', 'lc-w86-', 'w.', 'dec.', 'front-rudder', 'ok.', 'dec.', '==', '==', '2008/candidate', 'statements/jehochman/questions', '09:20', '....', 'colleagues/coworkers/whatever', '300,000,000', 'w/', 'st.', 'conduct==', '/why', '==', 'co-ordinate', '3rr', \"'when\", 'article.srq', '....', 'se-sick', '1991-1995', 'wars-', 'mind.', 'm.e', '22:33', '3.', '11:14', 'hw007', 'hw007', '-was', 'ps-', '21:21', 'flyguy649|talk', ':a.mandel', 'set.', '20ish', 'div-1', 'editing.', 'enough.', 'way.', 'broadband.gov', 'cross-ownership', 'prof.', \"amb'dor\", 'user_talk', 'talk|email', \"'unconscious\", 'meaning/reference', '16:23', '13:33', 'policy.wikipedia', 'kura_', 'japanese_saddle', '337th', 'wikibreak||', '3-manifold', 'h_1', 'non-separating', 'pi_1-injective', '3-manifold', '3-manifold', 'register-guard', 'anti-military', 'post-standard', '..', '21:25', 'anti-gay', 'ibrahimovic.', 'fair-use', 'cc-sa-2.5', 'wiki-friendly', 'anti-copyright', 'nontrinitarianism/references', '-might-', 'self-styled', 'so-called', 'self-styled', '20:14', 'non-notable', \"'inverted\", 'non-notable', 'so-called', '17:19', 'counter-claim', 'far-off-the-scale', '..']\n"
     ]
    }
   ],
   "source": [
    "comment_text_check = []\n",
    "for item in comment_text_cleaned:\n",
    "    for word in item:\n",
    "        if not word.isalpha():\n",
    "            comment_text_check.append(word)\n",
    "print(comment_text_check)"
   ]
  },
  {
   "cell_type": "markdown",
   "id": "e4ac8a1c",
   "metadata": {},
   "source": [
    "### We can see from above output that we need to perform following additional task for more text cleaning:"
   ]
  },
  {
   "cell_type": "markdown",
   "id": "72372d3e",
   "metadata": {},
   "source": [
    "- Replace following characters \"-\", \"_\", \"/\", \"+\" with \" \"\n",
    "- Replace \".\" \",\" \"|\" \":\" \"=\", \"'\", \"~\", \"^\", \"\", \"0-9\" and \"\" with \"\""
   ]
  },
  {
   "cell_type": "code",
   "execution_count": 95,
   "id": "09e370d1",
   "metadata": {},
   "outputs": [],
   "source": [
    "comment_text_cleaned1 = []\n",
    "for item in comment_text_cleaned:\n",
    "    cleaned_text = re.sub('[-+_/]', ' ', \" \".join(item))\n",
    "    cleaned_text = re.sub(\"[.,|:='~^0-9\\\\\\]\", \"\", cleaned_text)\n",
    "    comment_text_cleaned1.append(cleaned_text)"
   ]
  },
  {
   "cell_type": "code",
   "execution_count": 96,
   "id": "cbafc9ed",
   "metadata": {},
   "outputs": [
    {
     "name": "stdout",
     "output_type": "stream",
     "text": [
      "[]\n"
     ]
    }
   ],
   "source": [
    "comment_text_check = []\n",
    "\n",
    "for item in comment_text_cleaned1:\n",
    "    for word in word_tokenize(item):\n",
    "        if not word.isalpha():\n",
    "            comment_text_check.append(word)\n",
    "print(comment_text_check)"
   ]
  },
  {
   "cell_type": "markdown",
   "id": "795c7d17",
   "metadata": {},
   "source": [
    "### We have cleaned our text data completely. Lets move to next step."
   ]
  },
  {
   "cell_type": "markdown",
   "id": "c08b1453",
   "metadata": {},
   "source": [
    "#### 7. Define a function to perform all these steps, you’ll use this later on the actual test set"
   ]
  },
  {
   "cell_type": "code",
   "execution_count": 97,
   "id": "263e8c4f",
   "metadata": {},
   "outputs": [],
   "source": [
    "import re\n",
    "from nltk.tokenize import word_tokenize\n",
    "from nltk.corpus import stopwords\n",
    "import string\n",
    "\n",
    "sw_custom = [\"must\", \"would\", 'could', \"'s\", \"n't\", \"'m\", \"'re\", \"'ve\", \"'ll\", \"'d\", \"''\", '``','...','•','—',]\n",
    "sw_punc = stopwords.words('english') + list(string.punctuation) + sw_custom\n",
    "   \n",
    "def clean_text(text):\n",
    "    # Using regular expressions, remove IP addresses\n",
    "    rule_ip = r'\\d{1,3}\\.\\d{1,3}\\.\\d{1,3}\\.\\d{1,3}'\n",
    "    text_data_ip_rem = re.sub(rule_ip, '', text)\n",
    "\n",
    "    # Using regular expressions, remove URLs\n",
    "    rule_url = (\"((http|https|http://www.|https://www.|www.))\" +\n",
    "                 \"[a-zA-Z0-9@:%._\\\\+~#?&//=]\" +\n",
    "                 \"{2,256}\\\\.[a-z]\" +\n",
    "                 \"{2,6}\\\\b([-a-zA-Z0-9@:%\" +\n",
    "                 \"._\\\\+~#?&//=]*)\")\n",
    "    text_data_ip_url_rem = re.sub(rule_url, '', text_data_ip_rem)\n",
    "\n",
    "    # Normalize the casing\n",
    "    text_data_normalized = text_data_ip_url_rem.lower()\n",
    "\n",
    "    # Tokenize using word_tokenize from NLTK\n",
    "    text_data_tokens = word_tokenize(text_data_normalized)\n",
    "\n",
    "    # Remove stopwords and punctuations\n",
    "    text_data_sw_removed = [word for word in text_data_tokens \n",
    "                         if ((word not in sw_punc and word.isascii()) and not word.isnumeric())]\n",
    "\n",
    "    # Further cleaning text data\n",
    "    text_data_string = \" \".join(text_data_sw_removed)\n",
    "    text_data_string1 = re.sub('[-+_/]', ' ', text_data_string)\n",
    "    text_data_cleaned = re.sub(\"[.,|:='~^0-9\\\\\\]\", \"\", text_data_string1)\n",
    "    return text_data_cleaned"
   ]
  },
  {
   "cell_type": "markdown",
   "id": "c67a1516",
   "metadata": {},
   "source": [
    "### 4. Using a counter, find the top terms in the data."
   ]
  },
  {
   "cell_type": "markdown",
   "id": "bddb9445",
   "metadata": {},
   "source": [
    "#### 1. Can any of these be considered contextual stop words?\n",
    "#### 2. Words like “Wikipedia”, “page”, “edit” are examples of contextual stop words\n",
    "#### 3. If yes, drop these from the data"
   ]
  },
  {
   "cell_type": "code",
   "execution_count": 98,
   "id": "b5dd9991",
   "metadata": {},
   "outputs": [],
   "source": [
    "import nltk\n",
    "\n",
    "comment_text_cleaned_merged = []\n",
    "for item in comment_text_cleaned1:\n",
    "    comment_text_cleaned_merged = comment_text_cleaned_merged + item.split()\n",
    "\n",
    "comment_freq = nltk.FreqDist(comment_text_cleaned_merged)"
   ]
  },
  {
   "cell_type": "code",
   "execution_count": 99,
   "id": "c32df3b4",
   "metadata": {},
   "outputs": [
    {
     "data": {
      "text/plain": [
       "[('article', 1732),\n",
       " ('page', 1530),\n",
       " ('wikipedia', 1443),\n",
       " ('talk', 1212),\n",
       " ('please', 1043),\n",
       " ('ass', 990),\n",
       " ('fuck', 908),\n",
       " ('one', 879),\n",
       " ('like', 845),\n",
       " ('also', 658),\n",
       " ('see', 631),\n",
       " ('think', 630),\n",
       " ('know', 596),\n",
       " ('edit', 581),\n",
       " ('people', 554),\n",
       " ('use', 554),\n",
       " ('name', 544),\n",
       " ('may', 534),\n",
       " ('articles', 493),\n",
       " ('time', 488),\n",
       " ('user', 439),\n",
       " ('thanks', 436),\n",
       " ('even', 404),\n",
       " ('well', 403),\n",
       " ('deletion', 394),\n",
       " ('information', 393),\n",
       " ('make', 391),\n",
       " ('good', 379),\n",
       " ('suck', 375),\n",
       " ('get', 369),\n",
       " ('image', 369),\n",
       " ('want', 364),\n",
       " ('mexicans', 362),\n",
       " ('editing', 353),\n",
       " ('help', 350),\n",
       " ('wp', 347),\n",
       " ('way', 341),\n",
       " ('pages', 339),\n",
       " ('edits', 338),\n",
       " ('thank', 337),\n",
       " ('first', 334),\n",
       " ('new', 327),\n",
       " ('sources', 326),\n",
       " ('need', 310),\n",
       " ('say', 308),\n",
       " ('source', 304),\n",
       " ('many', 303),\n",
       " ('really', 301),\n",
       " ('deleted', 300),\n",
       " ('used', 285),\n",
       " ('fucking', 283),\n",
       " ('work', 281),\n",
       " ('section', 280),\n",
       " ('go', 276),\n",
       " ('find', 272),\n",
       " ('discussion', 267),\n",
       " ('right', 266),\n",
       " ('take', 264),\n",
       " ('look', 264),\n",
       " ('point', 263),\n",
       " ('made', 263),\n",
       " ('read', 262),\n",
       " ('since', 254),\n",
       " ('add', 253),\n",
       " ('two', 251),\n",
       " ('still', 251),\n",
       " ('much', 247),\n",
       " ('content', 246),\n",
       " ('gay', 246),\n",
       " ('someone', 243),\n",
       " ('fact', 240),\n",
       " ('link', 238),\n",
       " ('ytmnd', 238),\n",
       " ('back', 236),\n",
       " ('feel', 235),\n",
       " ('free', 231),\n",
       " ('something', 226),\n",
       " ('utc', 223),\n",
       " ('subject', 222),\n",
       " ('editors', 222),\n",
       " ('list', 221),\n",
       " ('case', 221),\n",
       " ('blocked', 221),\n",
       " ('sure', 218),\n",
       " ('going', 212),\n",
       " ('note', 209),\n",
       " ('welcome', 209),\n",
       " ('history', 209),\n",
       " ('without', 208),\n",
       " ('removed', 207),\n",
       " ('wiki', 206),\n",
       " ('stop', 202),\n",
       " ('personal', 202),\n",
       " ('comment', 202),\n",
       " ('said', 201),\n",
       " ('put', 201),\n",
       " ('added', 201),\n",
       " ('person', 201),\n",
       " ('let', 198),\n",
       " ('however', 198),\n",
       " ('us', 196),\n",
       " ('links', 195),\n",
       " ('policy', 194),\n",
       " ('might', 193),\n",
       " ('reason', 192),\n",
       " ('block', 191),\n",
       " ('never', 190),\n",
       " ('nigger', 190),\n",
       " ('ask', 189),\n",
       " ('question', 189),\n",
       " ('another', 187),\n",
       " ('questions', 187),\n",
       " ('speedy', 186),\n",
       " ('place', 186),\n",
       " ('things', 185),\n",
       " ('done', 185),\n",
       " ('better', 183),\n",
       " ('keep', 182),\n",
       " ('using', 181),\n",
       " ('remove', 180),\n",
       " ('thing', 180),\n",
       " ('wales', 180),\n",
       " ('seems', 179),\n",
       " ('fair', 179),\n",
       " ('believe', 176),\n",
       " ('vandalism', 176),\n",
       " ('anything', 176),\n",
       " ('others', 175),\n",
       " ('comments', 175),\n",
       " ('tag', 175),\n",
       " ('rather', 174),\n",
       " ('hope', 173),\n",
       " ('best', 172),\n",
       " ('die', 172),\n",
       " ('actually', 170),\n",
       " ('jim', 166),\n",
       " ('though', 165),\n",
       " ('wrong', 165),\n",
       " ('sorry', 164),\n",
       " ('ip', 163),\n",
       " ('hi', 162),\n",
       " ('non', 160),\n",
       " ('text', 160),\n",
       " ('issue', 159),\n",
       " ('already', 158),\n",
       " ('making', 157),\n",
       " ('editor', 156),\n",
       " ('nothing', 156),\n",
       " ('copyright', 155),\n",
       " ('consensus', 155),\n",
       " ('part', 154),\n",
       " ('little', 153),\n",
       " ('delete', 153),\n",
       " ('far', 152),\n",
       " ('understand', 152),\n",
       " ('long', 152),\n",
       " ('different', 151),\n",
       " ('site', 151),\n",
       " ('admins', 150),\n",
       " ('problem', 149),\n",
       " ('opinion', 149),\n",
       " ('ca', 149),\n",
       " ('mean', 149),\n",
       " ('agree', 149),\n",
       " ('years', 148),\n",
       " ('world', 148),\n",
       " ('leave', 147),\n",
       " ('anyone', 147),\n",
       " ('media', 147),\n",
       " ('material', 146),\n",
       " ('says', 145),\n",
       " ('english', 144),\n",
       " ('trying', 143),\n",
       " ('try', 141),\n",
       " ('show', 140),\n",
       " ('either', 140),\n",
       " ('clearly', 139),\n",
       " ('style', 139),\n",
       " ('reliable', 138),\n",
       " ('reference', 137),\n",
       " ('check', 136),\n",
       " ('clear', 136),\n",
       " ('pro', 136),\n",
       " ('notable', 135),\n",
       " ('request', 133),\n",
       " ('enough', 133),\n",
       " ('power', 133),\n",
       " ('probably', 133),\n",
       " ('change', 133),\n",
       " ('war', 133),\n",
       " ('contributions', 132),\n",
       " ('instead', 131),\n",
       " ('original', 130),\n",
       " ('criteria', 130),\n",
       " ('continue', 129),\n",
       " ('found', 129),\n",
       " ('adding', 129),\n",
       " ('evidence', 129),\n",
       " ('states', 128),\n",
       " ('references', 128)]"
      ]
     },
     "execution_count": 99,
     "metadata": {},
     "output_type": "execute_result"
    }
   ],
   "source": [
    "comment_freq.most_common(200)"
   ]
  },
  {
   "cell_type": "code",
   "execution_count": 100,
   "id": "5d2adfa6",
   "metadata": {},
   "outputs": [],
   "source": [
    "contextual_stop_words = ['article', 'page', 'pages', 'wikipedia', 'wiki', 'talk', 'please', 'also', 'may', 'edit', 'edits', \n",
    "                         'articles', 'user', 'information', 'sources', 'source', 'content', 'wp', 'discussion', 'subject', \n",
    "                         'editor', 'editors', 'copyright', 'contributions'] "
   ]
  },
  {
   "cell_type": "markdown",
   "id": "f895b721",
   "metadata": {},
   "source": [
    "### Remove contextual stopwords"
   ]
  },
  {
   "cell_type": "code",
   "execution_count": 101,
   "id": "d1a07b65",
   "metadata": {},
   "outputs": [],
   "source": [
    "def remove_contextual_sw(text):\n",
    "    cleaned_text = [word for word in text.split() if word not in contextual_stop_words]\n",
    "    return \" \".join(cleaned_text)"
   ]
  },
  {
   "cell_type": "code",
   "execution_count": 102,
   "id": "13fe1aba",
   "metadata": {},
   "outputs": [
    {
     "data": {
      "text/html": [
       "<div>\n",
       "<style scoped>\n",
       "    .dataframe tbody tr th:only-of-type {\n",
       "        vertical-align: middle;\n",
       "    }\n",
       "\n",
       "    .dataframe tbody tr th {\n",
       "        vertical-align: top;\n",
       "    }\n",
       "\n",
       "    .dataframe thead th {\n",
       "        text-align: right;\n",
       "    }\n",
       "</style>\n",
       "<table border=\"1\" class=\"dataframe\">\n",
       "  <thead>\n",
       "    <tr style=\"text-align: right;\">\n",
       "      <th></th>\n",
       "      <th>id</th>\n",
       "      <th>comment_text</th>\n",
       "      <th>toxic</th>\n",
       "      <th>comment_text_cleaned</th>\n",
       "    </tr>\n",
       "  </thead>\n",
       "  <tbody>\n",
       "    <tr>\n",
       "      <th>0</th>\n",
       "      <td>e617e2489abe9bca</td>\n",
       "      <td>\"\\r\\n\\r\\n A barnstar for you! \\r\\n\\r\\n  The De...</td>\n",
       "      <td>0</td>\n",
       "      <td>barnstar defender barnstar like kayastha lets ...</td>\n",
       "    </tr>\n",
       "    <tr>\n",
       "      <th>1</th>\n",
       "      <td>9250cf637294e09d</td>\n",
       "      <td>\"\\r\\n\\r\\nThis seems unbalanced.  whatever I ha...</td>\n",
       "      <td>0</td>\n",
       "      <td>seems unbalanced whatever said mathsci said fa...</td>\n",
       "    </tr>\n",
       "    <tr>\n",
       "      <th>2</th>\n",
       "      <td>ce1aa4592d5240ca</td>\n",
       "      <td>Marya Dzmitruk was born in Minsk, Belarus in M...</td>\n",
       "      <td>0</td>\n",
       "      <td>marya dzmitruk born minsk belarus march mother...</td>\n",
       "    </tr>\n",
       "    <tr>\n",
       "      <th>3</th>\n",
       "      <td>48105766ff7f075b</td>\n",
       "      <td>\"\\r\\n\\r\\nTalkback\\r\\n\\r\\n Dear Celestia...  \"</td>\n",
       "      <td>0</td>\n",
       "      <td>talkback dear celestia</td>\n",
       "    </tr>\n",
       "    <tr>\n",
       "      <th>4</th>\n",
       "      <td>0543d4f82e5470b6</td>\n",
       "      <td>New Categories \\r\\n\\r\\nI honestly think that w...</td>\n",
       "      <td>0</td>\n",
       "      <td>new categories honestly think need add categor...</td>\n",
       "    </tr>\n",
       "  </tbody>\n",
       "</table>\n",
       "</div>"
      ],
      "text/plain": [
       "                 id                                       comment_text  toxic  \\\n",
       "0  e617e2489abe9bca  \"\\r\\n\\r\\n A barnstar for you! \\r\\n\\r\\n  The De...      0   \n",
       "1  9250cf637294e09d  \"\\r\\n\\r\\nThis seems unbalanced.  whatever I ha...      0   \n",
       "2  ce1aa4592d5240ca  Marya Dzmitruk was born in Minsk, Belarus in M...      0   \n",
       "3  48105766ff7f075b      \"\\r\\n\\r\\nTalkback\\r\\n\\r\\n Dear Celestia...  \"      0   \n",
       "4  0543d4f82e5470b6  New Categories \\r\\n\\r\\nI honestly think that w...      0   \n",
       "\n",
       "                                comment_text_cleaned  \n",
       "0  barnstar defender barnstar like kayastha lets ...  \n",
       "1  seems unbalanced whatever said mathsci said fa...  \n",
       "2  marya dzmitruk born minsk belarus march mother...  \n",
       "3                             talkback dear celestia  \n",
       "4  new categories honestly think need add categor...  "
      ]
     },
     "execution_count": 102,
     "metadata": {},
     "output_type": "execute_result"
    }
   ],
   "source": [
    "comment_text_cleaned2 = [remove_contextual_sw(item) for item in comment_text_cleaned1]\n",
    "df['comment_text_cleaned'] = comment_text_cleaned2\n",
    "df.head()"
   ]
  },
  {
   "cell_type": "markdown",
   "id": "1426e6f3",
   "metadata": {},
   "source": [
    "## Optional Step:"
   ]
  },
  {
   "cell_type": "markdown",
   "id": "2e8e0b3f",
   "metadata": {},
   "source": [
    "- Performing lemmatization on cleaned text: Since lemmatization will reduce text size by converting each word to its root word which will increase code efficiency without impacting its performance much."
   ]
  },
  {
   "cell_type": "code",
   "execution_count": 103,
   "id": "9b7ac28f",
   "metadata": {},
   "outputs": [],
   "source": [
    "from nltk.corpus import wordnet\n",
    "\n",
    "def get_wordnet_pos(tag):\n",
    "    if tag.startswith('J'):\n",
    "        return wordnet.ADJ\n",
    "    elif tag.startswith('V'):\n",
    "        return wordnet.VERB\n",
    "    elif tag.startswith('N'):\n",
    "        return wordnet.NOUN\n",
    "    elif tag.startswith('R'):\n",
    "        return wordnet.ADV\n",
    "    else:\n",
    "        return wordnet.NOUN"
   ]
  },
  {
   "cell_type": "code",
   "execution_count": 104,
   "id": "3a69268f",
   "metadata": {},
   "outputs": [],
   "source": [
    "from nltk.stem import WordNetLemmatizer\n",
    "\n",
    "wnl = WordNetLemmatizer()\n",
    "\n",
    "def my_lemma(text):\n",
    "    tokens = word_tokenize(text)    \n",
    "    pos_tags = nltk.pos_tag(tokens)    \n",
    "    tokens_lemmed = [wnl.lemmatize(item[0],get_wordnet_pos(item[1])) for item in pos_tags]        \n",
    "    return \" \".join(tokens_lemmed)"
   ]
  },
  {
   "cell_type": "code",
   "execution_count": 105,
   "id": "05f7496e",
   "metadata": {},
   "outputs": [],
   "source": [
    "df['comment_text_lemmed'] = df['comment_text_cleaned'].apply(lambda x: my_lemma(x))"
   ]
  },
  {
   "cell_type": "code",
   "execution_count": 106,
   "id": "8446b6cc",
   "metadata": {},
   "outputs": [
    {
     "data": {
      "text/html": [
       "<div>\n",
       "<style scoped>\n",
       "    .dataframe tbody tr th:only-of-type {\n",
       "        vertical-align: middle;\n",
       "    }\n",
       "\n",
       "    .dataframe tbody tr th {\n",
       "        vertical-align: top;\n",
       "    }\n",
       "\n",
       "    .dataframe thead th {\n",
       "        text-align: right;\n",
       "    }\n",
       "</style>\n",
       "<table border=\"1\" class=\"dataframe\">\n",
       "  <thead>\n",
       "    <tr style=\"text-align: right;\">\n",
       "      <th></th>\n",
       "      <th>id</th>\n",
       "      <th>comment_text</th>\n",
       "      <th>toxic</th>\n",
       "      <th>comment_text_cleaned</th>\n",
       "      <th>comment_text_lemmed</th>\n",
       "    </tr>\n",
       "  </thead>\n",
       "  <tbody>\n",
       "    <tr>\n",
       "      <th>0</th>\n",
       "      <td>e617e2489abe9bca</td>\n",
       "      <td>\"\\r\\n\\r\\n A barnstar for you! \\r\\n\\r\\n  The De...</td>\n",
       "      <td>0</td>\n",
       "      <td>barnstar defender barnstar like kayastha lets ...</td>\n",
       "      <td>barnstar defender barnstar like kayastha let f...</td>\n",
       "    </tr>\n",
       "    <tr>\n",
       "      <th>1</th>\n",
       "      <td>9250cf637294e09d</td>\n",
       "      <td>\"\\r\\n\\r\\nThis seems unbalanced.  whatever I ha...</td>\n",
       "      <td>0</td>\n",
       "      <td>seems unbalanced whatever said mathsci said fa...</td>\n",
       "      <td>seem unbalanced whatever say mathsci say far e...</td>\n",
       "    </tr>\n",
       "    <tr>\n",
       "      <th>2</th>\n",
       "      <td>ce1aa4592d5240ca</td>\n",
       "      <td>Marya Dzmitruk was born in Minsk, Belarus in M...</td>\n",
       "      <td>0</td>\n",
       "      <td>marya dzmitruk born minsk belarus march mother...</td>\n",
       "      <td>marya dzmitruk bear minsk belarus march mother...</td>\n",
       "    </tr>\n",
       "    <tr>\n",
       "      <th>3</th>\n",
       "      <td>48105766ff7f075b</td>\n",
       "      <td>\"\\r\\n\\r\\nTalkback\\r\\n\\r\\n Dear Celestia...  \"</td>\n",
       "      <td>0</td>\n",
       "      <td>talkback dear celestia</td>\n",
       "      <td>talkback dear celestia</td>\n",
       "    </tr>\n",
       "    <tr>\n",
       "      <th>4</th>\n",
       "      <td>0543d4f82e5470b6</td>\n",
       "      <td>New Categories \\r\\n\\r\\nI honestly think that w...</td>\n",
       "      <td>0</td>\n",
       "      <td>new categories honestly think need add categor...</td>\n",
       "      <td>new category honestly think need add category ...</td>\n",
       "    </tr>\n",
       "  </tbody>\n",
       "</table>\n",
       "</div>"
      ],
      "text/plain": [
       "                 id                                       comment_text  toxic  \\\n",
       "0  e617e2489abe9bca  \"\\r\\n\\r\\n A barnstar for you! \\r\\n\\r\\n  The De...      0   \n",
       "1  9250cf637294e09d  \"\\r\\n\\r\\nThis seems unbalanced.  whatever I ha...      0   \n",
       "2  ce1aa4592d5240ca  Marya Dzmitruk was born in Minsk, Belarus in M...      0   \n",
       "3  48105766ff7f075b      \"\\r\\n\\r\\nTalkback\\r\\n\\r\\n Dear Celestia...  \"      0   \n",
       "4  0543d4f82e5470b6  New Categories \\r\\n\\r\\nI honestly think that w...      0   \n",
       "\n",
       "                                comment_text_cleaned  \\\n",
       "0  barnstar defender barnstar like kayastha lets ...   \n",
       "1  seems unbalanced whatever said mathsci said fa...   \n",
       "2  marya dzmitruk born minsk belarus march mother...   \n",
       "3                             talkback dear celestia   \n",
       "4  new categories honestly think need add categor...   \n",
       "\n",
       "                                 comment_text_lemmed  \n",
       "0  barnstar defender barnstar like kayastha let f...  \n",
       "1  seem unbalanced whatever say mathsci say far e...  \n",
       "2  marya dzmitruk bear minsk belarus march mother...  \n",
       "3                             talkback dear celestia  \n",
       "4  new category honestly think need add category ...  "
      ]
     },
     "execution_count": 106,
     "metadata": {},
     "output_type": "execute_result"
    }
   ],
   "source": [
    "df.head()"
   ]
  },
  {
   "cell_type": "markdown",
   "id": "d5b5f698",
   "metadata": {},
   "source": [
    "### 5. Separate into train and test sets"
   ]
  },
  {
   "cell_type": "markdown",
   "id": "9fe4ac7f",
   "metadata": {},
   "source": [
    "1.Use train-test method to divide your data into 2 sets: train and test\n",
    "\n",
    "2.Use a 70-30 split"
   ]
  },
  {
   "cell_type": "code",
   "execution_count": 107,
   "id": "099baf66",
   "metadata": {},
   "outputs": [],
   "source": [
    "from sklearn.model_selection import train_test_split\n",
    "\n",
    "X = df['comment_text_lemmed']\n",
    "y  = df['toxic']\n",
    "\n",
    "X_train, X_test, y_train, y_test = train_test_split(X, y, test_size=0.3, random_state=1)"
   ]
  },
  {
   "cell_type": "markdown",
   "id": "d98bdbc7",
   "metadata": {},
   "source": [
    "#### 6. Use TF-IDF values for the terms as feature to get into a vector space model"
   ]
  },
  {
   "cell_type": "markdown",
   "id": "223f0c27",
   "metadata": {},
   "source": [
    "1. Import TF-IDF vectorizer from sklearn\n",
    "2. Instantiate with a maximum of 4000 terms in your vocabulary\n",
    "3. Fit and apply on the train set\n",
    "4. Apply on the test set"
   ]
  },
  {
   "cell_type": "code",
   "execution_count": 108,
   "id": "5d8acf32",
   "metadata": {},
   "outputs": [
    {
     "name": "stdout",
     "output_type": "stream",
     "text": [
      "['aa' 'aacd' 'aaiha' ... 'zubair' 'zubaty' 'zx']\n"
     ]
    }
   ],
   "source": [
    "from sklearn.feature_extraction.text import TfidfVectorizer\n",
    "\n",
    "tfidf_model = TfidfVectorizer(ngram_range=(1, 1), stop_words=None)\n",
    "\n",
    "X_train_vec = tfidf_model.fit_transform(X_train)\n",
    "\n",
    "# Get the feature names\n",
    "feature_names = tfidf_model.get_feature_names_out()\n",
    "\n",
    "# Print the feature names\n",
    "print(feature_names)"
   ]
  },
  {
   "cell_type": "code",
   "execution_count": 109,
   "id": "9a23a0a1",
   "metadata": {},
   "outputs": [
    {
     "name": "stdout",
     "output_type": "stream",
     "text": [
      "[[0. 0. 0. ... 0. 0. 0.]\n",
      " [0. 0. 0. ... 0. 0. 0.]\n",
      " [0. 0. 0. ... 0. 0. 0.]\n",
      " ...\n",
      " [0. 0. 0. ... 0. 0. 0.]\n",
      " [0. 0. 0. ... 0. 0. 0.]\n",
      " [0. 0. 0. ... 0. 0. 0.]]\n"
     ]
    }
   ],
   "source": [
    "print(X_train_vec.todense())"
   ]
  },
  {
   "cell_type": "code",
   "execution_count": 110,
   "id": "750855fb",
   "metadata": {},
   "outputs": [],
   "source": [
    "X_test_vec = tfidf_model.transform(X_test)"
   ]
  },
  {
   "cell_type": "code",
   "execution_count": 111,
   "id": "51ce773e",
   "metadata": {},
   "outputs": [],
   "source": [
    "X_vec = tfidf_model.transform(X)"
   ]
  },
  {
   "cell_type": "code",
   "execution_count": 112,
   "id": "4421ad04",
   "metadata": {},
   "outputs": [
    {
     "name": "stdout",
     "output_type": "stream",
     "text": [
      "Number of features: 14775\n"
     ]
    }
   ],
   "source": [
    "# Get the number of features\n",
    "num_features = X_vec.shape[1]\n",
    "\n",
    "print(\"Number of features:\", num_features)"
   ]
  },
  {
   "cell_type": "markdown",
   "id": "8c3ad4d7",
   "metadata": {},
   "source": [
    "#### 7. Model building: Support Vector Machine"
   ]
  },
  {
   "cell_type": "markdown",
   "id": "fd503071",
   "metadata": {},
   "source": [
    "1. Instantiate SVC from sklearn with a linear kernel\n",
    "2. Fit on the train data\n",
    "3. Make predictions for the train and the test set"
   ]
  },
  {
   "cell_type": "code",
   "execution_count": 113,
   "id": "e45c84fb",
   "metadata": {},
   "outputs": [],
   "source": [
    "from sklearn.svm import SVC\n",
    "clf = SVC(kernel='linear', random_state=1)"
   ]
  },
  {
   "cell_type": "code",
   "execution_count": 114,
   "id": "94a5b92f",
   "metadata": {},
   "outputs": [
    {
     "data": {
      "text/html": [
       "<style>#sk-container-id-4 {color: black;}#sk-container-id-4 pre{padding: 0;}#sk-container-id-4 div.sk-toggleable {background-color: white;}#sk-container-id-4 label.sk-toggleable__label {cursor: pointer;display: block;width: 100%;margin-bottom: 0;padding: 0.3em;box-sizing: border-box;text-align: center;}#sk-container-id-4 label.sk-toggleable__label-arrow:before {content: \"▸\";float: left;margin-right: 0.25em;color: #696969;}#sk-container-id-4 label.sk-toggleable__label-arrow:hover:before {color: black;}#sk-container-id-4 div.sk-estimator:hover label.sk-toggleable__label-arrow:before {color: black;}#sk-container-id-4 div.sk-toggleable__content {max-height: 0;max-width: 0;overflow: hidden;text-align: left;background-color: #f0f8ff;}#sk-container-id-4 div.sk-toggleable__content pre {margin: 0.2em;color: black;border-radius: 0.25em;background-color: #f0f8ff;}#sk-container-id-4 input.sk-toggleable__control:checked~div.sk-toggleable__content {max-height: 200px;max-width: 100%;overflow: auto;}#sk-container-id-4 input.sk-toggleable__control:checked~label.sk-toggleable__label-arrow:before {content: \"▾\";}#sk-container-id-4 div.sk-estimator input.sk-toggleable__control:checked~label.sk-toggleable__label {background-color: #d4ebff;}#sk-container-id-4 div.sk-label input.sk-toggleable__control:checked~label.sk-toggleable__label {background-color: #d4ebff;}#sk-container-id-4 input.sk-hidden--visually {border: 0;clip: rect(1px 1px 1px 1px);clip: rect(1px, 1px, 1px, 1px);height: 1px;margin: -1px;overflow: hidden;padding: 0;position: absolute;width: 1px;}#sk-container-id-4 div.sk-estimator {font-family: monospace;background-color: #f0f8ff;border: 1px dotted black;border-radius: 0.25em;box-sizing: border-box;margin-bottom: 0.5em;}#sk-container-id-4 div.sk-estimator:hover {background-color: #d4ebff;}#sk-container-id-4 div.sk-parallel-item::after {content: \"\";width: 100%;border-bottom: 1px solid gray;flex-grow: 1;}#sk-container-id-4 div.sk-label:hover label.sk-toggleable__label {background-color: #d4ebff;}#sk-container-id-4 div.sk-serial::before {content: \"\";position: absolute;border-left: 1px solid gray;box-sizing: border-box;top: 0;bottom: 0;left: 50%;z-index: 0;}#sk-container-id-4 div.sk-serial {display: flex;flex-direction: column;align-items: center;background-color: white;padding-right: 0.2em;padding-left: 0.2em;position: relative;}#sk-container-id-4 div.sk-item {position: relative;z-index: 1;}#sk-container-id-4 div.sk-parallel {display: flex;align-items: stretch;justify-content: center;background-color: white;position: relative;}#sk-container-id-4 div.sk-item::before, #sk-container-id-4 div.sk-parallel-item::before {content: \"\";position: absolute;border-left: 1px solid gray;box-sizing: border-box;top: 0;bottom: 0;left: 50%;z-index: -1;}#sk-container-id-4 div.sk-parallel-item {display: flex;flex-direction: column;z-index: 1;position: relative;background-color: white;}#sk-container-id-4 div.sk-parallel-item:first-child::after {align-self: flex-end;width: 50%;}#sk-container-id-4 div.sk-parallel-item:last-child::after {align-self: flex-start;width: 50%;}#sk-container-id-4 div.sk-parallel-item:only-child::after {width: 0;}#sk-container-id-4 div.sk-dashed-wrapped {border: 1px dashed gray;margin: 0 0.4em 0.5em 0.4em;box-sizing: border-box;padding-bottom: 0.4em;background-color: white;}#sk-container-id-4 div.sk-label label {font-family: monospace;font-weight: bold;display: inline-block;line-height: 1.2em;}#sk-container-id-4 div.sk-label-container {text-align: center;}#sk-container-id-4 div.sk-container {/* jupyter's `normalize.less` sets `[hidden] { display: none; }` but bootstrap.min.css set `[hidden] { display: none !important; }` so we also need the `!important` here to be able to override the default hidden behavior on the sphinx rendered scikit-learn.org. See: https://github.com/scikit-learn/scikit-learn/issues/21755 */display: inline-block !important;position: relative;}#sk-container-id-4 div.sk-text-repr-fallback {display: none;}</style><div id=\"sk-container-id-4\" class=\"sk-top-container\"><div class=\"sk-text-repr-fallback\"><pre>SVC(kernel=&#x27;linear&#x27;, random_state=1)</pre><b>In a Jupyter environment, please rerun this cell to show the HTML representation or trust the notebook. <br />On GitHub, the HTML representation is unable to render, please try loading this page with nbviewer.org.</b></div><div class=\"sk-container\" hidden><div class=\"sk-item\"><div class=\"sk-estimator sk-toggleable\"><input class=\"sk-toggleable__control sk-hidden--visually\" id=\"sk-estimator-id-6\" type=\"checkbox\" checked><label for=\"sk-estimator-id-6\" class=\"sk-toggleable__label sk-toggleable__label-arrow\">SVC</label><div class=\"sk-toggleable__content\"><pre>SVC(kernel=&#x27;linear&#x27;, random_state=1)</pre></div></div></div></div></div>"
      ],
      "text/plain": [
       "SVC(kernel='linear', random_state=1)"
      ]
     },
     "execution_count": 114,
     "metadata": {},
     "output_type": "execute_result"
    }
   ],
   "source": [
    "clf.fit(X_train_vec, y_train)"
   ]
  },
  {
   "cell_type": "code",
   "execution_count": 115,
   "id": "6e9dfa25",
   "metadata": {},
   "outputs": [
    {
     "data": {
      "text/plain": [
       "array([0, 0, 0, ..., 0, 0, 0], dtype=int64)"
      ]
     },
     "execution_count": 115,
     "metadata": {},
     "output_type": "execute_result"
    }
   ],
   "source": [
    "y_train_pred = clf.predict(X_train_vec)\n",
    "y_train_pred"
   ]
  },
  {
   "cell_type": "code",
   "execution_count": 116,
   "id": "02bbf0ee",
   "metadata": {},
   "outputs": [
    {
     "data": {
      "text/plain": [
       "array([0, 0, 0, ..., 0, 0, 0], dtype=int64)"
      ]
     },
     "execution_count": 116,
     "metadata": {},
     "output_type": "execute_result"
    }
   ],
   "source": [
    "y_test_pred = clf.predict(X_test_vec)\n",
    "y_test_pred"
   ]
  },
  {
   "cell_type": "code",
   "execution_count": 117,
   "id": "7bd0e82c",
   "metadata": {},
   "outputs": [
    {
     "data": {
      "text/plain": [
       "98.22857142857143"
      ]
     },
     "execution_count": 117,
     "metadata": {},
     "output_type": "execute_result"
    }
   ],
   "source": [
    "clf.score(X_train_vec, y_train)*100"
   ]
  },
  {
   "cell_type": "code",
   "execution_count": 118,
   "id": "7526c367",
   "metadata": {},
   "outputs": [
    {
     "data": {
      "text/plain": [
       "93.86666666666666"
      ]
     },
     "execution_count": 118,
     "metadata": {},
     "output_type": "execute_result"
    }
   ],
   "source": [
    "clf.score(X_test_vec, y_test)*100"
   ]
  },
  {
   "cell_type": "markdown",
   "id": "32ff261c",
   "metadata": {},
   "source": [
    "#### 8. Model evaluation: Accuracy, recall, and f1_score"
   ]
  },
  {
   "cell_type": "markdown",
   "id": "d91156cc",
   "metadata": {},
   "source": [
    "1. Report the accuracy on the train set\n",
    "2. Report the recall on the train set:decent, high, low?\n",
    "3. Get the f1_score on the train set"
   ]
  },
  {
   "cell_type": "markdown",
   "id": "11d02352",
   "metadata": {},
   "source": [
    "##### import libraries for metrics and reporting"
   ]
  },
  {
   "cell_type": "code",
   "execution_count": 119,
   "id": "4afb1f26",
   "metadata": {},
   "outputs": [],
   "source": [
    "from sklearn.metrics import classification_report\n",
    "from sklearn.metrics import accuracy_score"
   ]
  },
  {
   "cell_type": "code",
   "execution_count": 120,
   "id": "6e914637",
   "metadata": {},
   "outputs": [
    {
     "data": {
      "text/plain": [
       "98.22857142857143"
      ]
     },
     "execution_count": 120,
     "metadata": {},
     "output_type": "execute_result"
    }
   ],
   "source": [
    "accuracy_score(y_train, y_train_pred)*100"
   ]
  },
  {
   "cell_type": "markdown",
   "id": "ae8f7896",
   "metadata": {},
   "source": [
    "#### As we observe above SVM classifier model accuracy for train data set is 98.22%"
   ]
  },
  {
   "cell_type": "code",
   "execution_count": 121,
   "id": "3d924435",
   "metadata": {},
   "outputs": [
    {
     "name": "stdout",
     "output_type": "stream",
     "text": [
      "              precision    recall  f1-score   support\n",
      "\n",
      "           0       0.98      1.00      0.99      3194\n",
      "           1       1.00      0.80      0.89       306\n",
      "\n",
      "    accuracy                           0.98      3500\n",
      "   macro avg       0.99      0.90      0.94      3500\n",
      "weighted avg       0.98      0.98      0.98      3500\n",
      "\n"
     ]
    }
   ],
   "source": [
    "print(classification_report(y_train, clf.predict(X_train_vec)))"
   ]
  },
  {
   "cell_type": "markdown",
   "id": "71f7487e",
   "metadata": {},
   "source": [
    "recall value for class '0' is 1 (very high) but for class '1' is 0.80 (very low compared to recall value for class 0).\n",
    "\n",
    "Similarly f1-score value for class '0' is 0.99 (very high) but for class '1' is 0.89 (low compared to recall value for class 0)."
   ]
  },
  {
   "cell_type": "code",
   "execution_count": 122,
   "id": "f7cdf45f",
   "metadata": {},
   "outputs": [
    {
     "name": "stdout",
     "output_type": "stream",
     "text": [
      "              precision    recall  f1-score   support\n",
      "\n",
      "           0       0.94      1.00      0.97      1369\n",
      "           1       0.90      0.34      0.49       131\n",
      "\n",
      "    accuracy                           0.94      1500\n",
      "   macro avg       0.92      0.67      0.73      1500\n",
      "weighted avg       0.94      0.94      0.93      1500\n",
      "\n"
     ]
    }
   ],
   "source": [
    "print(classification_report(y_test, clf.predict(X_test_vec)))"
   ]
  },
  {
   "cell_type": "markdown",
   "id": "4431c458",
   "metadata": {},
   "source": [
    "#### 9. Looks like you need to adjust the class imbalance, as the model seems to focus on the 0s"
   ]
  },
  {
   "cell_type": "markdown",
   "id": "42843e16",
   "metadata": {},
   "source": [
    "#### 1. Adjust the appropriate parameter in the SVC module"
   ]
  },
  {
   "cell_type": "markdown",
   "id": "565e41de",
   "metadata": {},
   "source": [
    "- In support vector machines, C is a hyperparameter determining the penalty for misclassifying an observation. One method for handling imbalanced classes in support vector machines is to weight C by classes, so that image.png where C is the penalty for misclassification, wj is a weight inversely proportional to class j’s frequency, and Cj is the C value for class j.\n",
    "\n",
    "- The general idea is to increase the penalty for misclassifying minority classes to prevent them from being “overwhelmed” by the majority class. In scikit-learn, when using SVC we can set the values for Cj automatically by setting class_weight='balanced'. The balanced argument automatically weighs classes such that: image-2.png where wj is the weight to class j, n is the number of observations, nj is the number of observations in class j, and k is the total number of classes."
   ]
  },
  {
   "cell_type": "code",
   "execution_count": 123,
   "id": "eca14aff",
   "metadata": {},
   "outputs": [],
   "source": [
    "clf1 = SVC(kernel='linear', class_weight='balanced', random_state=1)"
   ]
  },
  {
   "cell_type": "markdown",
   "id": "f2cd94aa",
   "metadata": {},
   "source": [
    "#### 10. Train again with the adjustment and evaluate"
   ]
  },
  {
   "cell_type": "markdown",
   "id": "4e8e2ae2",
   "metadata": {},
   "source": [
    "#### 1. Train the model on the train set\n",
    "#### 2. Evaluate the predictions on the validation set: accuracy, recall, f1_score"
   ]
  },
  {
   "cell_type": "code",
   "execution_count": 124,
   "id": "ccb30dce",
   "metadata": {},
   "outputs": [
    {
     "name": "stdout",
     "output_type": "stream",
     "text": [
      "              precision    recall  f1-score   support\n",
      "\n",
      "           0       1.00      1.00      1.00      3194\n",
      "           1       0.97      1.00      0.98       306\n",
      "\n",
      "    accuracy                           1.00      3500\n",
      "   macro avg       0.98      1.00      0.99      3500\n",
      "weighted avg       1.00      1.00      1.00      3500\n",
      "\n"
     ]
    }
   ],
   "source": [
    "clf1.fit(X_train_vec, y_train)\n",
    "print(classification_report(y_train, clf1.predict(X_train_vec)))"
   ]
  },
  {
   "cell_type": "code",
   "execution_count": 125,
   "id": "1ab81260",
   "metadata": {},
   "outputs": [
    {
     "name": "stdout",
     "output_type": "stream",
     "text": [
      "              precision    recall  f1-score   support\n",
      "\n",
      "           0       0.95      0.99      0.97      1369\n",
      "           1       0.74      0.43      0.54       131\n",
      "\n",
      "    accuracy                           0.94      1500\n",
      "   macro avg       0.84      0.71      0.75      1500\n",
      "weighted avg       0.93      0.94      0.93      1500\n",
      "\n"
     ]
    }
   ],
   "source": [
    "print(classification_report(y_test, clf1.predict(X_test_vec)))"
   ]
  },
  {
   "cell_type": "code",
   "execution_count": 126,
   "id": "35d6fd3d",
   "metadata": {},
   "outputs": [
    {
     "data": {
      "text/plain": [
       "99.68571428571428"
      ]
     },
     "execution_count": 126,
     "metadata": {},
     "output_type": "execute_result"
    }
   ],
   "source": [
    "accuracy_score(y_train, clf1.predict(X_train_vec))*100"
   ]
  },
  {
   "cell_type": "code",
   "execution_count": 127,
   "id": "b621306a",
   "metadata": {},
   "outputs": [
    {
     "data": {
      "text/plain": [
       "93.66666666666667"
      ]
     },
     "execution_count": 127,
     "metadata": {},
     "output_type": "execute_result"
    }
   ],
   "source": [
    "clf1.score(X_test_vec, y_test)*100"
   ]
  },
  {
   "cell_type": "markdown",
   "id": "dd2342b8",
   "metadata": {},
   "source": [
    "#### We can see that after setting class_weight='balanced' our model performance has improved with better recall and f1-score"
   ]
  },
  {
   "cell_type": "markdown",
   "id": "f5e2b4c4",
   "metadata": {},
   "source": [
    "#### 11. Hyperparameter tuning"
   ]
  },
  {
   "cell_type": "markdown",
   "id": "1f7f7ecc",
   "metadata": {},
   "source": [
    "#### 1. Import GridSearch and StratifiedKFold (because of class imbalance)\n",
    "#### 2. Provide the parameter grid to choose for ‘C’\n",
    "#### 3. Use a balanced class weight while instantiating the Support Vector Classifier"
   ]
  },
  {
   "cell_type": "markdown",
   "id": "4e2fabbe",
   "metadata": {},
   "source": [
    "Solution: StratifiedKFolds is a cross-validator and provides train/test indices to split data in train/test sets. This cross-validation object is a variation of KFold that returns stratified folds. The folds are made by preserving the percentage of samples for each class."
   ]
  },
  {
   "cell_type": "code",
   "execution_count": 128,
   "id": "17a8ea73",
   "metadata": {},
   "outputs": [],
   "source": [
    "from sklearn.model_selection import GridSearchCV"
   ]
  },
  {
   "cell_type": "code",
   "execution_count": 129,
   "id": "70fc518b",
   "metadata": {},
   "outputs": [],
   "source": [
    "clf2 = SVC(kernel='linear', class_weight='balanced', random_state=1)"
   ]
  },
  {
   "cell_type": "code",
   "execution_count": 130,
   "id": "ccfec189",
   "metadata": {},
   "outputs": [],
   "source": [
    "param_grid = {\n",
    "    'C':[1, 5, 10,15,20],\n",
    "    'gamma':[1, 0.1, 0.01, 0.001, 0.0001]\n",
    "}"
   ]
  },
  {
   "cell_type": "code",
   "execution_count": 131,
   "id": "ea466742",
   "metadata": {},
   "outputs": [],
   "source": [
    "gs = GridSearchCV(estimator=clf2, param_grid=param_grid, cv=3)"
   ]
  },
  {
   "cell_type": "code",
   "execution_count": 132,
   "id": "3ec49ffc",
   "metadata": {},
   "outputs": [
    {
     "data": {
      "text/html": [
       "<style>#sk-container-id-5 {color: black;}#sk-container-id-5 pre{padding: 0;}#sk-container-id-5 div.sk-toggleable {background-color: white;}#sk-container-id-5 label.sk-toggleable__label {cursor: pointer;display: block;width: 100%;margin-bottom: 0;padding: 0.3em;box-sizing: border-box;text-align: center;}#sk-container-id-5 label.sk-toggleable__label-arrow:before {content: \"▸\";float: left;margin-right: 0.25em;color: #696969;}#sk-container-id-5 label.sk-toggleable__label-arrow:hover:before {color: black;}#sk-container-id-5 div.sk-estimator:hover label.sk-toggleable__label-arrow:before {color: black;}#sk-container-id-5 div.sk-toggleable__content {max-height: 0;max-width: 0;overflow: hidden;text-align: left;background-color: #f0f8ff;}#sk-container-id-5 div.sk-toggleable__content pre {margin: 0.2em;color: black;border-radius: 0.25em;background-color: #f0f8ff;}#sk-container-id-5 input.sk-toggleable__control:checked~div.sk-toggleable__content {max-height: 200px;max-width: 100%;overflow: auto;}#sk-container-id-5 input.sk-toggleable__control:checked~label.sk-toggleable__label-arrow:before {content: \"▾\";}#sk-container-id-5 div.sk-estimator input.sk-toggleable__control:checked~label.sk-toggleable__label {background-color: #d4ebff;}#sk-container-id-5 div.sk-label input.sk-toggleable__control:checked~label.sk-toggleable__label {background-color: #d4ebff;}#sk-container-id-5 input.sk-hidden--visually {border: 0;clip: rect(1px 1px 1px 1px);clip: rect(1px, 1px, 1px, 1px);height: 1px;margin: -1px;overflow: hidden;padding: 0;position: absolute;width: 1px;}#sk-container-id-5 div.sk-estimator {font-family: monospace;background-color: #f0f8ff;border: 1px dotted black;border-radius: 0.25em;box-sizing: border-box;margin-bottom: 0.5em;}#sk-container-id-5 div.sk-estimator:hover {background-color: #d4ebff;}#sk-container-id-5 div.sk-parallel-item::after {content: \"\";width: 100%;border-bottom: 1px solid gray;flex-grow: 1;}#sk-container-id-5 div.sk-label:hover label.sk-toggleable__label {background-color: #d4ebff;}#sk-container-id-5 div.sk-serial::before {content: \"\";position: absolute;border-left: 1px solid gray;box-sizing: border-box;top: 0;bottom: 0;left: 50%;z-index: 0;}#sk-container-id-5 div.sk-serial {display: flex;flex-direction: column;align-items: center;background-color: white;padding-right: 0.2em;padding-left: 0.2em;position: relative;}#sk-container-id-5 div.sk-item {position: relative;z-index: 1;}#sk-container-id-5 div.sk-parallel {display: flex;align-items: stretch;justify-content: center;background-color: white;position: relative;}#sk-container-id-5 div.sk-item::before, #sk-container-id-5 div.sk-parallel-item::before {content: \"\";position: absolute;border-left: 1px solid gray;box-sizing: border-box;top: 0;bottom: 0;left: 50%;z-index: -1;}#sk-container-id-5 div.sk-parallel-item {display: flex;flex-direction: column;z-index: 1;position: relative;background-color: white;}#sk-container-id-5 div.sk-parallel-item:first-child::after {align-self: flex-end;width: 50%;}#sk-container-id-5 div.sk-parallel-item:last-child::after {align-self: flex-start;width: 50%;}#sk-container-id-5 div.sk-parallel-item:only-child::after {width: 0;}#sk-container-id-5 div.sk-dashed-wrapped {border: 1px dashed gray;margin: 0 0.4em 0.5em 0.4em;box-sizing: border-box;padding-bottom: 0.4em;background-color: white;}#sk-container-id-5 div.sk-label label {font-family: monospace;font-weight: bold;display: inline-block;line-height: 1.2em;}#sk-container-id-5 div.sk-label-container {text-align: center;}#sk-container-id-5 div.sk-container {/* jupyter's `normalize.less` sets `[hidden] { display: none; }` but bootstrap.min.css set `[hidden] { display: none !important; }` so we also need the `!important` here to be able to override the default hidden behavior on the sphinx rendered scikit-learn.org. See: https://github.com/scikit-learn/scikit-learn/issues/21755 */display: inline-block !important;position: relative;}#sk-container-id-5 div.sk-text-repr-fallback {display: none;}</style><div id=\"sk-container-id-5\" class=\"sk-top-container\"><div class=\"sk-text-repr-fallback\"><pre>GridSearchCV(cv=3,\n",
       "             estimator=SVC(class_weight=&#x27;balanced&#x27;, kernel=&#x27;linear&#x27;,\n",
       "                           random_state=1),\n",
       "             param_grid={&#x27;C&#x27;: [1, 5, 10, 15, 20],\n",
       "                         &#x27;gamma&#x27;: [1, 0.1, 0.01, 0.001, 0.0001]})</pre><b>In a Jupyter environment, please rerun this cell to show the HTML representation or trust the notebook. <br />On GitHub, the HTML representation is unable to render, please try loading this page with nbviewer.org.</b></div><div class=\"sk-container\" hidden><div class=\"sk-item sk-dashed-wrapped\"><div class=\"sk-label-container\"><div class=\"sk-label sk-toggleable\"><input class=\"sk-toggleable__control sk-hidden--visually\" id=\"sk-estimator-id-7\" type=\"checkbox\" ><label for=\"sk-estimator-id-7\" class=\"sk-toggleable__label sk-toggleable__label-arrow\">GridSearchCV</label><div class=\"sk-toggleable__content\"><pre>GridSearchCV(cv=3,\n",
       "             estimator=SVC(class_weight=&#x27;balanced&#x27;, kernel=&#x27;linear&#x27;,\n",
       "                           random_state=1),\n",
       "             param_grid={&#x27;C&#x27;: [1, 5, 10, 15, 20],\n",
       "                         &#x27;gamma&#x27;: [1, 0.1, 0.01, 0.001, 0.0001]})</pre></div></div></div><div class=\"sk-parallel\"><div class=\"sk-parallel-item\"><div class=\"sk-item\"><div class=\"sk-label-container\"><div class=\"sk-label sk-toggleable\"><input class=\"sk-toggleable__control sk-hidden--visually\" id=\"sk-estimator-id-8\" type=\"checkbox\" ><label for=\"sk-estimator-id-8\" class=\"sk-toggleable__label sk-toggleable__label-arrow\">estimator: SVC</label><div class=\"sk-toggleable__content\"><pre>SVC(class_weight=&#x27;balanced&#x27;, kernel=&#x27;linear&#x27;, random_state=1)</pre></div></div></div><div class=\"sk-serial\"><div class=\"sk-item\"><div class=\"sk-estimator sk-toggleable\"><input class=\"sk-toggleable__control sk-hidden--visually\" id=\"sk-estimator-id-9\" type=\"checkbox\" ><label for=\"sk-estimator-id-9\" class=\"sk-toggleable__label sk-toggleable__label-arrow\">SVC</label><div class=\"sk-toggleable__content\"><pre>SVC(class_weight=&#x27;balanced&#x27;, kernel=&#x27;linear&#x27;, random_state=1)</pre></div></div></div></div></div></div></div></div></div></div>"
      ],
      "text/plain": [
       "GridSearchCV(cv=3,\n",
       "             estimator=SVC(class_weight='balanced', kernel='linear',\n",
       "                           random_state=1),\n",
       "             param_grid={'C': [1, 5, 10, 15, 20],\n",
       "                         'gamma': [1, 0.1, 0.01, 0.001, 0.0001]})"
      ]
     },
     "execution_count": 132,
     "metadata": {},
     "output_type": "execute_result"
    }
   ],
   "source": [
    "gs.fit(X_vec,y)"
   ]
  },
  {
   "cell_type": "code",
   "execution_count": 133,
   "id": "f10b88ba",
   "metadata": {},
   "outputs": [
    {
     "data": {
      "text/plain": [
       "{'C': 1, 'gamma': 1}"
      ]
     },
     "execution_count": 133,
     "metadata": {},
     "output_type": "execute_result"
    }
   ],
   "source": [
    "gs.best_params_"
   ]
  },
  {
   "cell_type": "code",
   "execution_count": 134,
   "id": "9cc66094",
   "metadata": {},
   "outputs": [
    {
     "data": {
      "text/plain": [
       "94.69997957191273"
      ]
     },
     "execution_count": 134,
     "metadata": {},
     "output_type": "execute_result"
    }
   ],
   "source": [
    "gs.best_score_*100"
   ]
  },
  {
   "cell_type": "code",
   "execution_count": 135,
   "id": "f025f6c2",
   "metadata": {},
   "outputs": [],
   "source": [
    "# gs.cv_results_"
   ]
  },
  {
   "cell_type": "code",
   "execution_count": 136,
   "id": "206a7945",
   "metadata": {},
   "outputs": [],
   "source": [
    "clf3 = SVC(kernel='linear', C=1, gamma=1)"
   ]
  },
  {
   "cell_type": "code",
   "execution_count": 137,
   "id": "ca6e8d9a",
   "metadata": {},
   "outputs": [
    {
     "data": {
      "text/html": [
       "<style>#sk-container-id-6 {color: black;}#sk-container-id-6 pre{padding: 0;}#sk-container-id-6 div.sk-toggleable {background-color: white;}#sk-container-id-6 label.sk-toggleable__label {cursor: pointer;display: block;width: 100%;margin-bottom: 0;padding: 0.3em;box-sizing: border-box;text-align: center;}#sk-container-id-6 label.sk-toggleable__label-arrow:before {content: \"▸\";float: left;margin-right: 0.25em;color: #696969;}#sk-container-id-6 label.sk-toggleable__label-arrow:hover:before {color: black;}#sk-container-id-6 div.sk-estimator:hover label.sk-toggleable__label-arrow:before {color: black;}#sk-container-id-6 div.sk-toggleable__content {max-height: 0;max-width: 0;overflow: hidden;text-align: left;background-color: #f0f8ff;}#sk-container-id-6 div.sk-toggleable__content pre {margin: 0.2em;color: black;border-radius: 0.25em;background-color: #f0f8ff;}#sk-container-id-6 input.sk-toggleable__control:checked~div.sk-toggleable__content {max-height: 200px;max-width: 100%;overflow: auto;}#sk-container-id-6 input.sk-toggleable__control:checked~label.sk-toggleable__label-arrow:before {content: \"▾\";}#sk-container-id-6 div.sk-estimator input.sk-toggleable__control:checked~label.sk-toggleable__label {background-color: #d4ebff;}#sk-container-id-6 div.sk-label input.sk-toggleable__control:checked~label.sk-toggleable__label {background-color: #d4ebff;}#sk-container-id-6 input.sk-hidden--visually {border: 0;clip: rect(1px 1px 1px 1px);clip: rect(1px, 1px, 1px, 1px);height: 1px;margin: -1px;overflow: hidden;padding: 0;position: absolute;width: 1px;}#sk-container-id-6 div.sk-estimator {font-family: monospace;background-color: #f0f8ff;border: 1px dotted black;border-radius: 0.25em;box-sizing: border-box;margin-bottom: 0.5em;}#sk-container-id-6 div.sk-estimator:hover {background-color: #d4ebff;}#sk-container-id-6 div.sk-parallel-item::after {content: \"\";width: 100%;border-bottom: 1px solid gray;flex-grow: 1;}#sk-container-id-6 div.sk-label:hover label.sk-toggleable__label {background-color: #d4ebff;}#sk-container-id-6 div.sk-serial::before {content: \"\";position: absolute;border-left: 1px solid gray;box-sizing: border-box;top: 0;bottom: 0;left: 50%;z-index: 0;}#sk-container-id-6 div.sk-serial {display: flex;flex-direction: column;align-items: center;background-color: white;padding-right: 0.2em;padding-left: 0.2em;position: relative;}#sk-container-id-6 div.sk-item {position: relative;z-index: 1;}#sk-container-id-6 div.sk-parallel {display: flex;align-items: stretch;justify-content: center;background-color: white;position: relative;}#sk-container-id-6 div.sk-item::before, #sk-container-id-6 div.sk-parallel-item::before {content: \"\";position: absolute;border-left: 1px solid gray;box-sizing: border-box;top: 0;bottom: 0;left: 50%;z-index: -1;}#sk-container-id-6 div.sk-parallel-item {display: flex;flex-direction: column;z-index: 1;position: relative;background-color: white;}#sk-container-id-6 div.sk-parallel-item:first-child::after {align-self: flex-end;width: 50%;}#sk-container-id-6 div.sk-parallel-item:last-child::after {align-self: flex-start;width: 50%;}#sk-container-id-6 div.sk-parallel-item:only-child::after {width: 0;}#sk-container-id-6 div.sk-dashed-wrapped {border: 1px dashed gray;margin: 0 0.4em 0.5em 0.4em;box-sizing: border-box;padding-bottom: 0.4em;background-color: white;}#sk-container-id-6 div.sk-label label {font-family: monospace;font-weight: bold;display: inline-block;line-height: 1.2em;}#sk-container-id-6 div.sk-label-container {text-align: center;}#sk-container-id-6 div.sk-container {/* jupyter's `normalize.less` sets `[hidden] { display: none; }` but bootstrap.min.css set `[hidden] { display: none !important; }` so we also need the `!important` here to be able to override the default hidden behavior on the sphinx rendered scikit-learn.org. See: https://github.com/scikit-learn/scikit-learn/issues/21755 */display: inline-block !important;position: relative;}#sk-container-id-6 div.sk-text-repr-fallback {display: none;}</style><div id=\"sk-container-id-6\" class=\"sk-top-container\"><div class=\"sk-text-repr-fallback\"><pre>SVC(C=1, gamma=1, kernel=&#x27;linear&#x27;)</pre><b>In a Jupyter environment, please rerun this cell to show the HTML representation or trust the notebook. <br />On GitHub, the HTML representation is unable to render, please try loading this page with nbviewer.org.</b></div><div class=\"sk-container\" hidden><div class=\"sk-item\"><div class=\"sk-estimator sk-toggleable\"><input class=\"sk-toggleable__control sk-hidden--visually\" id=\"sk-estimator-id-10\" type=\"checkbox\" checked><label for=\"sk-estimator-id-10\" class=\"sk-toggleable__label sk-toggleable__label-arrow\">SVC</label><div class=\"sk-toggleable__content\"><pre>SVC(C=1, gamma=1, kernel=&#x27;linear&#x27;)</pre></div></div></div></div></div>"
      ],
      "text/plain": [
       "SVC(C=1, gamma=1, kernel='linear')"
      ]
     },
     "execution_count": 137,
     "metadata": {},
     "output_type": "execute_result"
    }
   ],
   "source": [
    "clf3.fit(X_train_vec, y_train)"
   ]
  },
  {
   "cell_type": "code",
   "execution_count": 138,
   "id": "b406f826",
   "metadata": {},
   "outputs": [
    {
     "data": {
      "text/plain": [
       "98.22857142857143"
      ]
     },
     "execution_count": 138,
     "metadata": {},
     "output_type": "execute_result"
    }
   ],
   "source": [
    "clf3.score(X_train_vec, y_train)*100"
   ]
  },
  {
   "cell_type": "code",
   "execution_count": 139,
   "id": "df52d357",
   "metadata": {},
   "outputs": [
    {
     "data": {
      "text/plain": [
       "93.86666666666666"
      ]
     },
     "execution_count": 139,
     "metadata": {},
     "output_type": "execute_result"
    }
   ],
   "source": [
    "clf3.score(X_test_vec, y_test)*100"
   ]
  },
  {
   "cell_type": "markdown",
   "id": "c3ea705d",
   "metadata": {},
   "source": [
    "### Hyper parameter tuning using GridSearchCV and StratifiedKFold"
   ]
  },
  {
   "cell_type": "code",
   "execution_count": 140,
   "id": "1d42d038",
   "metadata": {},
   "outputs": [
    {
     "name": "stdout",
     "output_type": "stream",
     "text": [
      "\n",
      "1 of kfold 5\n",
      "Best parameters:  {'svc__C': 10, 'svc__gamma': 10}\n",
      "accuracy_score 94.8\n",
      "\n",
      "2 of kfold 5\n",
      "Best parameters:  {'svc__C': 100, 'svc__gamma': 10}\n",
      "accuracy_score 94.69999999999999\n",
      "\n",
      "3 of kfold 5\n",
      "Best parameters:  {'svc__C': 100, 'svc__gamma': 10}\n",
      "accuracy_score 94.89999999999999\n",
      "\n",
      "4 of kfold 5\n",
      "Best parameters:  {'svc__C': 0.1, 'svc__gamma': 10}\n",
      "accuracy_score 93.8\n",
      "\n",
      "5 of kfold 5\n",
      "Best parameters:  {'svc__C': 1, 'svc__gamma': 10}\n",
      "accuracy_score 94.6\n",
      "\n",
      "List of possible accuracy: [94.8, 94.69999999999999, 94.89999999999999, 93.8, 94.6]\n",
      "\n",
      "Maximum Accuracy That can be obtained from this model is: 94.89999999999999 %\n",
      "\n",
      "Minimum Accuracy: 93.8 %\n",
      "\n",
      "Overall Accuracy: 94.56 %\n",
      "\n",
      "Standard Deviation is: 0.3929\n",
      "\n",
      "Time taken: 148.55 seconds\n"
     ]
    }
   ],
   "source": [
    "import numpy as np\n",
    "from sklearn.model_selection import GridSearchCV\n",
    "from sklearn.model_selection import StratifiedKFold\n",
    "from sklearn.pipeline import make_pipeline, Pipeline\n",
    "\n",
    "t1 = time.time()\n",
    "\n",
    "# Bundling together all preprocessing steps for text data\n",
    "def preprocess_text(text):\n",
    "    return my_lemma(remove_contextual_sw(clean_text(text)))\n",
    "\n",
    "# Creating pipeline for vectorization and classification model\n",
    "model = Pipeline(steps=[('vectorizer', TfidfVectorizer(ngram_range=(1,1),stop_words= None)),\n",
    "                              ('svc', SVC(kernel='linear', class_weight='balanced', random_state=1))\n",
    "                             ])\n",
    "\n",
    "X = df['comment_text'].apply(lambda x: preprocess_text(x))\n",
    "y = df['toxic']\n",
    "\n",
    "param_grid = {\n",
    "    'svc__C':[0.1, 1, 10, 100],\n",
    "    'svc__gamma':[10, 1, 0.1, 0.01, 0.001]\n",
    "}\n",
    "\n",
    "i=1\n",
    "skf = StratifiedKFold(n_splits=5, random_state=1, shuffle=True)\n",
    "accu_stratified = []\n",
    "\n",
    "for train_index,test_index in skf.split(X,y):      \n",
    "    print('\\n{} of kfold {}'.format(i, skf.n_splits))    \n",
    "    Xtrain, Xtest = X[train_index], X[test_index]\n",
    "    ytrain, ytest = y.iloc[train_index], y.iloc[test_index]\n",
    "    my_model = GridSearchCV(model, param_grid=param_grid, cv=3, n_jobs=-1, scoring= 'accuracy')\n",
    "    my_model.fit(Xtrain, ytrain)\n",
    "    print(\"Best parameters: \", my_model.best_params_)\n",
    "    pred=my_model.predict(Xtest)\n",
    "    print('accuracy_score',accuracy_score(ytest,pred)*100)\n",
    "    accu_stratified.append(accuracy_score(ytest,pred)*100)\n",
    "    i+=1\n",
    "    \n",
    "# Print the output.\n",
    "print('\\nList of possible accuracy:', accu_stratified)\n",
    "print('\\nMaximum Accuracy That can be obtained from this model is:', max(accu_stratified), '%')\n",
    "print('\\nMinimum Accuracy:', min(accu_stratified), '%')\n",
    "print('\\nOverall Accuracy:', round(np.mean(accu_stratified),2), '%')\n",
    "print('\\nStandard Deviation is:', round(np.std(accu_stratified),4))\n",
    "\n",
    "t2 = time.time()\n",
    "print(\"\\nTime taken: {} seconds\".format(round(t2-t1,2)))"
   ]
  },
  {
   "cell_type": "markdown",
   "id": "3b71fbc8",
   "metadata": {},
   "source": [
    "#### 12. Find the parameters with the best recall in cross validation"
   ]
  },
  {
   "cell_type": "markdown",
   "id": "16ca4377",
   "metadata": {},
   "source": [
    "#### 1.Choose ‘recall’ as the metric for scoring\n",
    "#### 2.Choose stratified 5 fold cross validation scheme\n",
    "#### 3.Fit on the train set"
   ]
  },
  {
   "cell_type": "code",
   "execution_count": 141,
   "id": "802a3f4f",
   "metadata": {},
   "outputs": [
    {
     "name": "stdout",
     "output_type": "stream",
     "text": [
      "\n",
      "1 of kfold 5\n",
      "Best parameters:  {'svc__C': 1, 'svc__gamma': 10}\n",
      "Recall_value:  94.9\n",
      "\n",
      "2 of kfold 5\n",
      "Best parameters:  {'svc__C': 1, 'svc__gamma': 10}\n",
      "Recall_value:  95.3\n",
      "\n",
      "3 of kfold 5\n",
      "Best parameters:  {'svc__C': 1, 'svc__gamma': 10}\n",
      "Recall_value:  94.7\n",
      "\n",
      "4 of kfold 5\n",
      "Best parameters:  {'svc__C': 1, 'svc__gamma': 10}\n",
      "Recall_value:  94.6\n",
      "\n",
      "5 of kfold 5\n",
      "Best parameters:  {'svc__C': 1, 'svc__gamma': 10}\n",
      "Recall_value:  94.6\n",
      "\n",
      "List of possible Recall_value: [94.9, 95.3, 94.7, 94.6, 94.6]\n",
      "\n",
      "Maximum Recall_value That can be obtained from this model is: 95.3 %\n",
      "\n",
      "Minimum Recall_value: 94.6 %\n",
      "\n",
      "Overall Recall_value: 94.82 %\n",
      "\n",
      "Standard Deviation is: 0.2638\n",
      "\n",
      "Time taken: 141.95 seconds\n"
     ]
    }
   ],
   "source": [
    "t1 = time.time()\n",
    "\n",
    "# Bundling together all preprocessing steps for text data\n",
    "def preprocess_text(text):\n",
    "    return my_lemma(remove_contextual_sw(clean_text(text)))\n",
    "\n",
    "# Creating pipeline for vectorization and classification model\n",
    "model = Pipeline(steps=[('vectorizer', TfidfVectorizer(ngram_range=(1,1),stop_words= None)),\n",
    "                              ('svc', SVC(kernel='linear', class_weight='balanced', random_state=1))\n",
    "                             ])\n",
    "\n",
    "X = df['comment_text'].apply(lambda x: preprocess_text(x))\n",
    "y = df['toxic']\n",
    "\n",
    "param_grid = {\n",
    "    'svc__C':[0.1, 1, 10, 100],\n",
    "    'svc__gamma':[10, 1, 0.1, 0.01, 0.001]\n",
    "}\n",
    "\n",
    "i=1\n",
    "skf = StratifiedKFold(n_splits=5, random_state=1, shuffle=True)\n",
    "recall_stratified = []\n",
    "\n",
    "for train_index,test_index in skf.split(X,y):      \n",
    "    print('\\n{} of kfold {}'.format(i, skf.n_splits))    \n",
    "    Xtrain, Xtest = X[train_index], X[test_index]\n",
    "    ytrain, ytest = y.iloc[train_index], y.iloc[test_index]\n",
    "    my_model = GridSearchCV(model, param_grid=param_grid, cv=3, n_jobs=-1, scoring= 'recall')\n",
    "    my_model.fit(Xtrain, ytrain)\n",
    "    print(\"Best parameters: \", my_model.best_params_)\n",
    "    pred=my_model.predict(Xtest)\n",
    "    recall_value = round(classification_report(ytest, pred, output_dict=True)['weighted avg']['recall']*100,2)\n",
    "    print('Recall_value: ', recall_value)\n",
    "    recall_stratified.append(recall_value)\n",
    "    i+=1\n",
    "    \n",
    "# Print the output.\n",
    "print('\\nList of possible Recall_value:', recall_stratified)\n",
    "print('\\nMaximum Recall_value That can be obtained from this model is:', max(recall_stratified), '%')\n",
    "print('\\nMinimum Recall_value:', min(recall_stratified), '%')\n",
    "print('\\nOverall Recall_value:', round(np.mean(recall_stratified),2), '%')\n",
    "print('\\nStandard Deviation is:', round(np.std(recall_stratified),4))\n",
    "\n",
    "t2 = time.time()\n",
    "print(\"\\nTime taken: {} seconds\".format(round(t2-t1,2)))"
   ]
  },
  {
   "cell_type": "markdown",
   "id": "bee14ec6",
   "metadata": {},
   "source": [
    "#### 13. What are the best parameters?\n",
    "\n",
    "Solution: We can see from above output that best parameters to get optimum Recall value (95.3%) are:\n",
    "\n",
    "- Best parameters: {'C': 1, 'gamma': 10}"
   ]
  },
  {
   "cell_type": "markdown",
   "id": "239cc6b6",
   "metadata": {},
   "source": [
    "#### 14. Predict and evaluate using the best estimator\n",
    "\n",
    "#### 1.Use best estimator from the grid search to make predictions on the test set\n",
    "#### 2.What is the recall on the test set for the toxic comments?\n",
    "#### 3.What is the f1_score?"
   ]
  },
  {
   "cell_type": "code",
   "execution_count": 142,
   "id": "f0b3a4ba",
   "metadata": {},
   "outputs": [
    {
     "name": "stdout",
     "output_type": "stream",
     "text": [
      "\n",
      "Model accuracy with train data:  99.68571428571428\n",
      "\n",
      "Model accuracy with test data:  93.66666666666667\n",
      "\n",
      "Classification report with train data:\n",
      "               precision    recall  f1-score   support\n",
      "\n",
      "           0       1.00      1.00      1.00      3194\n",
      "           1       0.97      1.00      0.98       306\n",
      "\n",
      "    accuracy                           1.00      3500\n",
      "   macro avg       0.98      1.00      0.99      3500\n",
      "weighted avg       1.00      1.00      1.00      3500\n",
      "\n",
      "\n",
      "Classification report with test data:\n",
      "               precision    recall  f1-score   support\n",
      "\n",
      "           0       0.95      0.99      0.97      1369\n",
      "           1       0.74      0.43      0.54       131\n",
      "\n",
      "    accuracy                           0.94      1500\n",
      "   macro avg       0.84      0.71      0.75      1500\n",
      "weighted avg       0.93      0.94      0.93      1500\n",
      "\n"
     ]
    }
   ],
   "source": [
    "model_final = SVC(kernel='linear', C=1, gamma=10, class_weight='balanced', random_state=1)\n",
    "model_final.fit(X_train_vec, y_train)\n",
    "y_test_pred = model_final.predict(X_test_vec)\n",
    "print(\"\\nModel accuracy with train data: \", model_final.score(X_train_vec, y_train)*100)\n",
    "print(\"\\nModel accuracy with test data: \", model_final.score(X_test_vec, y_test)*100)\n",
    "print(\"\\nClassification report with train data:\\n\", classification_report(y_train, model_final.predict(X_train_vec)))\n",
    "print(\"\\nClassification report with test data:\\n\", classification_report(y_test, model_final.predict(X_test_vec)))"
   ]
  },
  {
   "cell_type": "code",
   "execution_count": 143,
   "id": "1417d0e9",
   "metadata": {},
   "outputs": [],
   "source": [
    "recall_value_test = classification_report(y_test, y_test_pred, output_dict=True)['weighted avg']['recall']*100"
   ]
  },
  {
   "cell_type": "code",
   "execution_count": 144,
   "id": "809045c4",
   "metadata": {},
   "outputs": [
    {
     "name": "stdout",
     "output_type": "stream",
     "text": [
      "\n",
      "Model Recall value with test data:  93.66666666666667\n"
     ]
    }
   ],
   "source": [
    "print(\"\\nModel Recall value with test data: \", recall_value_test)"
   ]
  },
  {
   "cell_type": "code",
   "execution_count": 145,
   "id": "a2607de6",
   "metadata": {},
   "outputs": [],
   "source": [
    "f1_score_test = classification_report(y_test, y_test_pred, output_dict=True)['weighted avg']['f1-score']*100"
   ]
  },
  {
   "cell_type": "code",
   "execution_count": 146,
   "id": "7e5f1bd6",
   "metadata": {},
   "outputs": [
    {
     "name": "stdout",
     "output_type": "stream",
     "text": [
      "\n",
      "Model f1-score with test data:  92.88764008018666\n"
     ]
    }
   ],
   "source": [
    "print(\"\\nModel f1-score with test data: \", f1_score_test)"
   ]
  },
  {
   "cell_type": "markdown",
   "id": "9c4927cb",
   "metadata": {},
   "source": [
    "#### 15. What are the most prominent terms in the toxic comments?"
   ]
  },
  {
   "cell_type": "markdown",
   "id": "25c14eff",
   "metadata": {},
   "source": [
    "#### 1. Separate the comments from the test set that the model identified as toxic"
   ]
  },
  {
   "cell_type": "code",
   "execution_count": 147,
   "id": "57b4eae1",
   "metadata": {},
   "outputs": [
    {
     "data": {
      "text/plain": [
       "2916    comment west irrelevant well quote nuclear phs...\n",
       "1513             thing persistant ugly bastard fuck troll\n",
       "804                         bull fuck shit racist scumbag\n",
       "3271                                                  eat\n",
       "2671    stop deleting jont tell ask tell friend go pre...\n",
       "                              ...                        \n",
       "719                                            suck twerp\n",
       "709     san francisco burrito formal hierarchy authori...\n",
       "3203    hate crime believe category hate crime accepta...\n",
       "1777                          gay warn gay deletion troll\n",
       "1433    fuck hate nigger spics jews minority fuck hate...\n",
       "Name: comment_text_lemmed, Length: 76, dtype: object"
      ]
     },
     "execution_count": 147,
     "metadata": {},
     "output_type": "execute_result"
    }
   ],
   "source": [
    "X_test[y_test_pred==1]"
   ]
  },
  {
   "cell_type": "code",
   "execution_count": 148,
   "id": "eb1fc711",
   "metadata": {},
   "outputs": [],
   "source": [
    "text_merged = []\n",
    "for item in X_test[y_test_pred==1]:\n",
    "    text_merged = text_merged + item.split()"
   ]
  },
  {
   "cell_type": "code",
   "execution_count": 149,
   "id": "81fc3bd8",
   "metadata": {},
   "outputs": [
    {
     "name": "stdout",
     "output_type": "stream",
     "text": [
      "Requirement already satisfied: wordcloud in c:\\programdata\\anaconda3\\lib\\site-packages (1.9.2)\n",
      "Requirement already satisfied: numpy>=1.6.1 in c:\\programdata\\anaconda3\\lib\\site-packages (from wordcloud) (1.24.3)\n",
      "Requirement already satisfied: pillow in c:\\programdata\\anaconda3\\lib\\site-packages (from wordcloud) (9.4.0)\n",
      "Requirement already satisfied: matplotlib in c:\\programdata\\anaconda3\\lib\\site-packages (from wordcloud) (3.7.1)\n",
      "Requirement already satisfied: contourpy>=1.0.1 in c:\\programdata\\anaconda3\\lib\\site-packages (from matplotlib->wordcloud) (1.0.5)\n",
      "Requirement already satisfied: cycler>=0.10 in c:\\programdata\\anaconda3\\lib\\site-packages (from matplotlib->wordcloud) (0.11.0)\n",
      "Requirement already satisfied: fonttools>=4.22.0 in c:\\programdata\\anaconda3\\lib\\site-packages (from matplotlib->wordcloud) (4.25.0)\n",
      "Requirement already satisfied: kiwisolver>=1.0.1 in c:\\programdata\\anaconda3\\lib\\site-packages (from matplotlib->wordcloud) (1.4.4)\n",
      "Requirement already satisfied: packaging>=20.0 in c:\\programdata\\anaconda3\\lib\\site-packages (from matplotlib->wordcloud) (23.0)\n",
      "Requirement already satisfied: pyparsing>=2.3.1 in c:\\programdata\\anaconda3\\lib\\site-packages (from matplotlib->wordcloud) (3.0.9)\n",
      "Requirement already satisfied: python-dateutil>=2.7 in c:\\programdata\\anaconda3\\lib\\site-packages (from matplotlib->wordcloud) (2.8.2)\n",
      "Requirement already satisfied: six>=1.5 in c:\\programdata\\anaconda3\\lib\\site-packages (from python-dateutil>=2.7->matplotlib->wordcloud) (1.16.0)\n",
      "Note: you may need to restart the kernel to use updated packages.\n"
     ]
    }
   ],
   "source": [
    "pip install wordcloud"
   ]
  },
  {
   "cell_type": "code",
   "execution_count": 150,
   "id": "b1546862",
   "metadata": {},
   "outputs": [],
   "source": [
    "from wordcloud import WordCloud\n",
    "import matplotlib.pyplot as plt"
   ]
  },
  {
   "cell_type": "code",
   "execution_count": 151,
   "id": "02238ab7",
   "metadata": {},
   "outputs": [],
   "source": [
    "import os"
   ]
  },
  {
   "cell_type": "code",
   "execution_count": 152,
   "id": "51039b9b",
   "metadata": {},
   "outputs": [
    {
     "data": {
      "image/png": "[encoded data removed]",
      "text/plain": [
       "<Figure size 1000x1000 with 1 Axes>"
      ]
     },
     "metadata": {},
     "output_type": "display_data"
    }
   ],
   "source": [
    "title = 'Word Cloud Analysis for Text Data'\n",
    "wordcloud = WordCloud(\n",
    "    background_color='white',\n",
    "    stopwords=None,\n",
    "    max_words=50,\n",
    "    max_font_size=40, \n",
    "    scale=3,\n",
    "    random_state=1 \n",
    ").generate(\" \".join(text_merged))\n",
    "\n",
    "fig = plt.figure(1, figsize=(10, 10))\n",
    "plt.axis('off')\n",
    "if title: \n",
    "    fig.suptitle(title, fontsize=20)\n",
    "    fig.subplots_adjust(top=2.3)\n",
    "    \n",
    "plt.imshow(wordcloud);"
   ]
  },
  {
   "cell_type": "markdown",
   "id": "4cb81a7b",
   "metadata": {},
   "source": [
    "#### 2. Make one large list of the terms"
   ]
  },
  {
   "cell_type": "code",
   "execution_count": 153,
   "id": "08fc311d",
   "metadata": {},
   "outputs": [
    {
     "name": "stdout",
     "output_type": "stream",
     "text": [
      "[('fuck', 384), ('as', 285), ('gay', 221), ('hate', 90), ('nigger', 79), ('spics', 79), ('jews', 79), ('minority', 79), ('like', 18), ('go', 17), ('get', 14), ('one', 11), ('time', 11), ('arab', 11), ('people', 10), ('na', 9), ('well', 8), ('think', 8), ('life', 8), ('mate', 8), ('dick', 8), ('shit', 7), ('bitch', 7), ('stop', 6), ('dude', 6), ('movie', 6), ('hell', 6), ('know', 6), ('take', 6), ('delete', 6), ('ever', 6), ('give', 6), ('little', 6), ('jlatondre', 6), ('stupid', 5), ('tell', 5), ('really', 5), ('change', 5), ('another', 5), ('good', 5), ('suck', 5), ('block', 5), ('want', 5), ('maybe', 5), ('ya', 5), ('never', 5), ('sure', 5), ('back', 5), ('person', 5), ('enough', 5), ('quote', 4), ('thing', 4), ('leave', 4), ('yes', 4), ('retard', 4), ('look', 4), ('son', 4), ('need', 4), ('reason', 4), ('asshole', 4), ('read', 4), ('ip', 4), ('book', 4), ('try', 4), ('vandalise', 4), ('vandal', 4), ('guy', 4), ('arabic', 4), ('say', 4), ('nobhead', 4), ('ear', 4), ('nothing', 4), ('waste', 4), ('crime', 4), ('comment', 3), ('put', 3), ('eat', 3), ('cool', 3), ('u', 3), ('mean', 3), ('around', 3), ('anime', 3), ('post', 3), ('power', 3), ('fight', 3), ('many', 3), ('second', 3), ('nice', 3), ('let', 3), ('hahaha', 3), ('remove', 3), ('everything', 3), ('keep', 3), ('ca', 3), ('big', 3), ('ban', 3), ('way', 3), ('bullshit', 3), ('boy', 3), ('work', 3)]\n"
     ]
    }
   ],
   "source": [
    "freq_words = nltk.FreqDist(text_merged)\n",
    "print(freq_words.most_common(100))"
   ]
  },
  {
   "cell_type": "markdown",
   "id": "adcd569a",
   "metadata": {},
   "source": [
    "#### 3. Get the top 15 terms"
   ]
  },
  {
   "cell_type": "code",
   "execution_count": 154,
   "id": "2e26c7d5",
   "metadata": {},
   "outputs": [
    {
     "data": {
      "text/plain": [
       "[('fuck', 384),\n",
       " ('as', 285),\n",
       " ('gay', 221),\n",
       " ('hate', 90),\n",
       " ('nigger', 79),\n",
       " ('spics', 79),\n",
       " ('jews', 79),\n",
       " ('minority', 79),\n",
       " ('like', 18),\n",
       " ('go', 17),\n",
       " ('get', 14),\n",
       " ('one', 11),\n",
       " ('time', 11),\n",
       " ('arab', 11),\n",
       " ('people', 10)]"
      ]
     },
     "execution_count": 154,
     "metadata": {},
     "output_type": "execute_result"
    }
   ],
   "source": [
    "freq_words.most_common(15)"
   ]
  },
  {
   "cell_type": "markdown",
   "id": "02adb5db",
   "metadata": {},
   "source": [
    "### Packing all functions in a pipeline for better organizing code:"
   ]
  },
  {
   "cell_type": "markdown",
   "id": "79a93ada",
   "metadata": {},
   "source": [
    "#### Let us create final model with complete data:"
   ]
  },
  {
   "cell_type": "code",
   "execution_count": 155,
   "id": "7a04e26e",
   "metadata": {},
   "outputs": [],
   "source": [
    "model = Pipeline(steps=[('vectorizer', TfidfVectorizer(ngram_range=(1,1),stop_words= None)),\n",
    "                              ('svc', SVC(kernel='linear', C=1, gamma=10, class_weight='balanced', random_state=1))\n",
    "                             ])\n",
    "final_model = model.fit(X,y)"
   ]
  },
  {
   "cell_type": "code",
   "execution_count": null,
   "id": "10a37847",
   "metadata": {},
   "outputs": [],
   "source": []
  },
  {
   "cell_type": "code",
   "execution_count": null,
   "id": "2531c0dd",
   "metadata": {},
   "outputs": [],
   "source": []
  }
 ],
 "metadata": {
  "kernelspec": {
   "display_name": "Python 3 (ipykernel)",
   "language": "python",
   "name": "python3"
  },
  "language_info": {
   "codemirror_mode": {
    "name": "ipython",
    "version": 3
   },
   "file_extension": ".py",
   "mimetype": "text/x-python",
   "name": "python",
   "nbconvert_exporter": "python",
   "pygments_lexer": "ipython3",
   "version": "3.11.4"
  }
 },
 "nbformat": 4,
 "nbformat_minor": 5
}
